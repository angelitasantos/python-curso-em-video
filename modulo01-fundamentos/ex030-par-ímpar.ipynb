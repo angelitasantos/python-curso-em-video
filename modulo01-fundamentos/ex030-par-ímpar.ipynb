{
 "cells": [
  {
   "cell_type": "markdown",
   "id": "2702fdbe",
   "metadata": {},
   "source": [
    "# Desafio 030\n",
    "\n",
    "Exercício Python 030: Crie um programa que leia um número inteiro e mostre na tela se ele é PAR ou ÍMPAR."
   ]
  },
  {
   "cell_type": "code",
   "execution_count": 1,
   "id": "ac44319f",
   "metadata": {},
   "outputs": [
    {
     "name": "stdout",
     "output_type": "stream",
     "text": [
      "Digite um número inteiro: 21\n",
      "O número 21 é ÍMPAR.\n"
     ]
    }
   ],
   "source": [
    "numero = int(input('Digite um número inteiro: '))\n",
    "\n",
    "par = numero % 2 == 0\n",
    "impar = numero % 2 == 1\n",
    "\n",
    "if par == True:\n",
    "    print(f'O número {numero} é PAR.')\n",
    "else:\n",
    "    print(f'O número {numero} é ÍMPAR.')"
   ]
  }
 ],
 "metadata": {
  "kernelspec": {
   "display_name": "Python 3 (ipykernel)",
   "language": "python",
   "name": "python3"
  },
  "language_info": {
   "codemirror_mode": {
    "name": "ipython",
    "version": 3
   },
   "file_extension": ".py",
   "mimetype": "text/x-python",
   "name": "python",
   "nbconvert_exporter": "python",
   "pygments_lexer": "ipython3",
   "version": "3.8.10"
  }
 },
 "nbformat": 4,
 "nbformat_minor": 5
}
