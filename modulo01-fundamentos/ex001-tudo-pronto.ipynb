{
 "cells": [
  {
   "cell_type": "markdown",
   "id": "81301d76",
   "metadata": {},
   "source": [
    "# Desafio 001\n",
    "\n",
    "Exercício Python 001: Crie um programa que escreva \"Olá mundo\" na tela."
   ]
  },
  {
   "cell_type": "code",
   "execution_count": 1,
   "id": "d6271790",
   "metadata": {},
   "outputs": [
    {
     "name": "stdout",
     "output_type": "stream",
     "text": [
      "Olá mundo!\n"
     ]
    }
   ],
   "source": [
    "print('Olá mundo!')"
   ]
  },
  {
   "cell_type": "code",
   "execution_count": 2,
   "id": "3c3983c5",
   "metadata": {},
   "outputs": [
    {
     "name": "stdout",
     "output_type": "stream",
     "text": [
      "Olá mundo!\n"
     ]
    }
   ],
   "source": [
    "mensagem = 'Olá mundo!'\n",
    "print(mensagem)"
   ]
  },
  {
   "cell_type": "code",
   "execution_count": 3,
   "id": "ff11286f",
   "metadata": {},
   "outputs": [
    {
     "name": "stdout",
     "output_type": "stream",
     "text": [
      "Digite seu nome: Angelita\n",
      "Bom dia, Angelita\n"
     ]
    }
   ],
   "source": [
    "nome = input('Digite seu nome: ')\n",
    "mensagem = 'Bom dia,'\n",
    "print(mensagem, nome)"
   ]
  },
  {
   "cell_type": "code",
   "execution_count": 4,
   "id": "c778bd9f",
   "metadata": {},
   "outputs": [
    {
     "name": "stdout",
     "output_type": "stream",
     "text": [
      "Digite seu nome: Angelita\n",
      "Seja bem-vindo(a), Angelita\n"
     ]
    }
   ],
   "source": [
    "nome = input('Digite seu nome: ')\n",
    "mensagem = 'Seja bem-vindo(a), '\n",
    "print(f'{mensagem}{nome}')"
   ]
  }
 ],
 "metadata": {
  "kernelspec": {
   "display_name": "Python 3 (ipykernel)",
   "language": "python",
   "name": "python3"
  },
  "language_info": {
   "codemirror_mode": {
    "name": "ipython",
    "version": 3
   },
   "file_extension": ".py",
   "mimetype": "text/x-python",
   "name": "python",
   "nbconvert_exporter": "python",
   "pygments_lexer": "ipython3",
   "version": "3.8.10"
  }
 },
 "nbformat": 4,
 "nbformat_minor": 5
}
