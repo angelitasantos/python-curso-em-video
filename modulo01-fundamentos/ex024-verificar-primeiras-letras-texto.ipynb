{
 "cells": [
  {
   "cell_type": "markdown",
   "id": "3858c3bc",
   "metadata": {},
   "source": [
    "# Desafio 024\n",
    "\n",
    "Exercício Python 024: Crie um programa que leia o nome de uma cidade diga se ela começa ou não com o nome \"SANTO\"."
   ]
  },
  {
   "cell_type": "code",
   "execution_count": 1,
   "id": "1eac0102",
   "metadata": {},
   "outputs": [
    {
     "name": "stdout",
     "output_type": "stream",
     "text": [
      "Em que cidade você nasceu? Santo Antônio do Leite\n",
      "O nome da cidade que você nasceu começa com a palavra SANTO? True\n"
     ]
    }
   ],
   "source": [
    "cidade = str(input('Em que cidade você nasceu? ')).strip() \n",
    "# .strip() = remove os espaços em branco no início e no fim do texto\n",
    "palavra = 'SANTO'\n",
    "validacao = {cidade[:5].upper()} == {palavra}\n",
    "\n",
    "print(f'O nome da cidade que você nasceu começa com a palavra {palavra}? {validacao}')"
   ]
  }
 ],
 "metadata": {
  "kernelspec": {
   "display_name": "Python 3 (ipykernel)",
   "language": "python",
   "name": "python3"
  },
  "language_info": {
   "codemirror_mode": {
    "name": "ipython",
    "version": 3
   },
   "file_extension": ".py",
   "mimetype": "text/x-python",
   "name": "python",
   "nbconvert_exporter": "python",
   "pygments_lexer": "ipython3",
   "version": "3.8.10"
  }
 },
 "nbformat": 4,
 "nbformat_minor": 5
}
