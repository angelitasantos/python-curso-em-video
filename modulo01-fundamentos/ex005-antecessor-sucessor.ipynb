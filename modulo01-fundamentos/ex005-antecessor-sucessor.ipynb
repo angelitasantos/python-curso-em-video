{
 "cells": [
  {
   "cell_type": "markdown",
   "id": "71ee1ca9",
   "metadata": {},
   "source": [
    "# Desafio 005\n",
    "\n",
    "Exercício Python 005: Faça um programa que leia um número Inteiro e mostre na tela o seu sucessor e seu antecessor."
   ]
  },
  {
   "cell_type": "code",
   "execution_count": 1,
   "id": "1433e60f",
   "metadata": {},
   "outputs": [
    {
     "name": "stdout",
     "output_type": "stream",
     "text": [
      "Digite um número inteiro: 5\n",
      "Analisando o número 5: seu antecessor é 4 e seu sucessor é 6\n"
     ]
    }
   ],
   "source": [
    "numero_inteiro = int(input('Digite um número inteiro: '))\n",
    "antecessor = numero_inteiro - 1\n",
    "sucessor = numero_inteiro + 1\n",
    "print(f'Analisando o número {numero_inteiro}: seu antecessor é {antecessor} e seu sucessor é {sucessor}')"
   ]
  },
  {
   "cell_type": "code",
   "execution_count": 2,
   "id": "66f0fb9f",
   "metadata": {},
   "outputs": [
    {
     "name": "stdout",
     "output_type": "stream",
     "text": [
      "Digite um número inteiro: 8\n",
      "Analisando o número 8: seu antecessor é 7 e seu sucessor é 9\n"
     ]
    }
   ],
   "source": [
    "numero = int(input('Digite um número inteiro: '))\n",
    "print(f'Analisando o número {numero}: seu antecessor é {numero - 1} e seu sucessor é {numero + 1}')"
   ]
  }
 ],
 "metadata": {
  "kernelspec": {
   "display_name": "Python 3 (ipykernel)",
   "language": "python",
   "name": "python3"
  },
  "language_info": {
   "codemirror_mode": {
    "name": "ipython",
    "version": 3
   },
   "file_extension": ".py",
   "mimetype": "text/x-python",
   "name": "python",
   "nbconvert_exporter": "python",
   "pygments_lexer": "ipython3",
   "version": "3.8.10"
  }
 },
 "nbformat": 4,
 "nbformat_minor": 5
}
