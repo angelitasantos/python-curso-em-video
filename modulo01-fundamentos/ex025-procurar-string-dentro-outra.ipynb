{
 "cells": [
  {
   "cell_type": "markdown",
   "id": "dfebaf98",
   "metadata": {},
   "source": [
    "# Desafio 025\n",
    "\n",
    "Exercício Python 025: Crie um programa que leia o nome de uma pessoa e diga se ela tem \"SILVA\" no nome."
   ]
  },
  {
   "cell_type": "code",
   "execution_count": 1,
   "id": "f4732c6a",
   "metadata": {},
   "outputs": [
    {
     "name": "stdout",
     "output_type": "stream",
     "text": [
      "Qual é o seu nome completo? Maria José da Silva Andrade\n",
      "O seu nome tem SILVA? True\n"
     ]
    }
   ],
   "source": [
    "nome = str(input('Qual é o seu nome completo? ')).strip()\n",
    "palavra = 'SILVA'\n",
    "validacao = palavra in nome.upper()\n",
    "print(f'O seu nome tem {palavra}? {validacao}')"
   ]
  }
 ],
 "metadata": {
  "kernelspec": {
   "display_name": "Python 3 (ipykernel)",
   "language": "python",
   "name": "python3"
  },
  "language_info": {
   "codemirror_mode": {
    "name": "ipython",
    "version": 3
   },
   "file_extension": ".py",
   "mimetype": "text/x-python",
   "name": "python",
   "nbconvert_exporter": "python",
   "pygments_lexer": "ipython3",
   "version": "3.8.10"
  }
 },
 "nbformat": 4,
 "nbformat_minor": 5
}
