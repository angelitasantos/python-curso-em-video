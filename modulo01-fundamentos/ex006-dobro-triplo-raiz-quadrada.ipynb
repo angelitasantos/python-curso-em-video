{
 "cells": [
  {
   "cell_type": "markdown",
   "id": "e67f688a",
   "metadata": {},
   "source": [
    "# Desafio 006\n",
    "\n",
    "Exercício Python 006: Crie um algoritmo que leia um número e mostre o seu dobro, triplo e raiz quadrada."
   ]
  },
  {
   "cell_type": "code",
   "execution_count": 1,
   "id": "67c02c24",
   "metadata": {},
   "outputs": [
    {
     "name": "stdout",
     "output_type": "stream",
     "text": [
      "Digite um número inteiro: 18\n",
      "O dobro de 18 vale 36\n",
      "O tripo de 18 vale 54\n",
      "A raiz quadrada de 18 é igual a 4.24\n"
     ]
    }
   ],
   "source": [
    "numero = int(input('Digite um número inteiro: '))\n",
    "dobro = numero * 2\n",
    "triplo = numero * 3\n",
    "raiz_quadrada = numero ** (1 / 2)\n",
    "print(f'O dobro de {numero} vale {dobro}')\n",
    "print(f'O tripo de {numero} vale {triplo}')\n",
    "print(f'A raiz quadrada de {numero} é igual a {raiz_quadrada:.2f}')"
   ]
  },
  {
   "cell_type": "code",
   "execution_count": 2,
   "id": "9f430f38",
   "metadata": {},
   "outputs": [
    {
     "name": "stdout",
     "output_type": "stream",
     "text": [
      "Digite um número inteiro: 4\n",
      "O dobro de 4 vale 8\n",
      "O tripo de 4 vale 12\n",
      "A raiz quadrada de 4 é igual a 2.00\n"
     ]
    }
   ],
   "source": [
    "numero = int(input('Digite um número inteiro: '))\n",
    "print(f'O dobro de {numero} vale {numero * 2}')\n",
    "print(f'O tripo de {numero} vale {numero * 3}')\n",
    "print(f'A raiz quadrada de {numero} é igual a {numero ** (1 / 2):.2f}')"
   ]
  },
  {
   "cell_type": "code",
   "execution_count": 3,
   "id": "400259da",
   "metadata": {},
   "outputs": [
    {
     "name": "stdout",
     "output_type": "stream",
     "text": [
      "Digite um número inteiro: 4\n",
      "O dobro de 4 vale 8\n",
      "O tripo de 4 vale 12\n",
      "A raiz quadrada de 4 é igual a 2.00\n"
     ]
    }
   ],
   "source": [
    "numero = int(input('Digite um número inteiro: '))\n",
    "dobro = numero * 2\n",
    "triplo = numero * 3\n",
    "raiz_quadrada = pow(numero, (1 / 2))\n",
    "print(f'O dobro de {numero} vale {dobro}')\n",
    "print(f'O tripo de {numero} vale {triplo}')\n",
    "print(f'A raiz quadrada de {numero} é igual a {raiz_quadrada:.2f}')"
   ]
  }
 ],
 "metadata": {
  "kernelspec": {
   "display_name": "Python 3 (ipykernel)",
   "language": "python",
   "name": "python3"
  },
  "language_info": {
   "codemirror_mode": {
    "name": "ipython",
    "version": 3
   },
   "file_extension": ".py",
   "mimetype": "text/x-python",
   "name": "python",
   "nbconvert_exporter": "python",
   "pygments_lexer": "ipython3",
   "version": "3.8.10"
  }
 },
 "nbformat": 4,
 "nbformat_minor": 5
}
