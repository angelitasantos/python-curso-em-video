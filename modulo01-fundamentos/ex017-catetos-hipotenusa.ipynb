{
 "cells": [
  {
   "cell_type": "markdown",
   "id": "52583c61",
   "metadata": {},
   "source": [
    "# Desafio 017\n",
    "\n",
    "Exercício Python 017: Faça um programa que leia o comprimento do cateto oposto e do cateto adjacente de um triângulo retângulo. Calcule e mostre o comprimento da hipotenusa."
   ]
  },
  {
   "cell_type": "code",
   "execution_count": 1,
   "id": "85c6aa2f",
   "metadata": {},
   "outputs": [
    {
     "name": "stdout",
     "output_type": "stream",
     "text": [
      "Comprimento do cateto oposto: 4\n",
      "Comprimento do cateto adjacente: 3\n",
      "A hipotenusa do triângulo retângulo mede: 5.00.\n"
     ]
    }
   ],
   "source": [
    "cateto_oposto = float(input('Comprimento do cateto oposto: '))\n",
    "cateto_adjacente = float(input('Comprimento do cateto adjacente: '))\n",
    "hipotenusa = (cateto_oposto ** 2 + cateto_adjacente ** 2) ** (1 / 2)\n",
    "\n",
    "print(f'A hipotenusa do triângulo retângulo mede: {hipotenusa:.2f}.')"
   ]
  },
  {
   "cell_type": "code",
   "execution_count": 2,
   "id": "1f0d413c",
   "metadata": {},
   "outputs": [
    {
     "name": "stdout",
     "output_type": "stream",
     "text": [
      "Comprimento do cateto oposto: 7\n",
      "Comprimento do cateto adjacente: 5\n",
      "A hipotenusa do triângulo retângulo mede: 8.60.\n"
     ]
    }
   ],
   "source": [
    "import math\n",
    "\n",
    "cateto_oposto = float(input('Comprimento do cateto oposto: '))\n",
    "cateto_adjacente = float(input('Comprimento do cateto adjacente: '))\n",
    "hipotenusa = math.hypot(cateto_oposto, cateto_adjacente)\n",
    "\n",
    "print(f'A hipotenusa do triângulo retângulo mede: {hipotenusa:.2f}.')"
   ]
  },
  {
   "cell_type": "code",
   "execution_count": 3,
   "id": "495688fb",
   "metadata": {},
   "outputs": [
    {
     "name": "stdout",
     "output_type": "stream",
     "text": [
      "Comprimento do cateto oposto: 6\n",
      "Comprimento do cateto adjacente: 2\n",
      "A hipotenusa do triângulo retângulo mede: 6.32.\n"
     ]
    }
   ],
   "source": [
    "from math import hypot\n",
    "\n",
    "cateto_oposto = float(input('Comprimento do cateto oposto: '))\n",
    "cateto_adjacente = float(input('Comprimento do cateto adjacente: '))\n",
    "hipotenusa = hypot(cateto_oposto, cateto_adjacente)\n",
    "\n",
    "print(f'A hipotenusa do triângulo retângulo mede: {hipotenusa:.2f}.')"
   ]
  }
 ],
 "metadata": {
  "kernelspec": {
   "display_name": "Python 3 (ipykernel)",
   "language": "python",
   "name": "python3"
  },
  "language_info": {
   "codemirror_mode": {
    "name": "ipython",
    "version": 3
   },
   "file_extension": ".py",
   "mimetype": "text/x-python",
   "name": "python",
   "nbconvert_exporter": "python",
   "pygments_lexer": "ipython3",
   "version": "3.8.10"
  }
 },
 "nbformat": 4,
 "nbformat_minor": 5
}
