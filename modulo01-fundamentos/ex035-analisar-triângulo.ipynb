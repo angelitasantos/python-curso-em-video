{
 "cells": [
  {
   "cell_type": "markdown",
   "id": "adee8604",
   "metadata": {},
   "source": [
    "# Desafio 035\n",
    "\n",
    "Exercício Python 035: Desenvolva um programa que leia o comprimento de três retas e diga ao usuário se elas podem ou não formar um triângulo."
   ]
  },
  {
   "cell_type": "code",
   "execution_count": 3,
   "id": "4811dd29",
   "metadata": {},
   "outputs": [
    {
     "name": "stdout",
     "output_type": "stream",
     "text": [
      "----------------------------------------------------------------------------------------------------\n",
      "Analisador de Triângulos...\n",
      "----------------------------------------------------------------------------------------------------\n",
      "Digite a primeira reta: 2\n",
      "Digite a segunda reta: 4\n",
      "Digite a terceira reta: 6\n",
      "As retas acima NÃO PODEM formar um Triângulo.\n"
     ]
    }
   ],
   "source": [
    "print('-' * 100)\n",
    "print('Analisador de Triângulos...')\n",
    "print('-' * 100)\n",
    "\n",
    "reta_01 = float(input('Digite a primeira reta: '))\n",
    "reta_02 = float(input('Digite a segunda reta: '))\n",
    "reta_03 = float(input('Digite a terceira reta: '))\n",
    "\n",
    "if reta_01 < reta_02 + reta_03 and reta_02 < reta_01 + reta_03 and reta_03 < reta_01 + reta_02:\n",
    "    print('As retas acima PODEM formar um Triângulo.')\n",
    "else:\n",
    "    print('As retas acima NÃO PODEM formar um Triângulo.')"
   ]
  },
  {
   "cell_type": "raw",
   "id": "cfd07f69",
   "metadata": {},
   "source": []
  }
 ],
 "metadata": {
  "kernelspec": {
   "display_name": "Python 3 (ipykernel)",
   "language": "python",
   "name": "python3"
  },
  "language_info": {
   "codemirror_mode": {
    "name": "ipython",
    "version": 3
   },
   "file_extension": ".py",
   "mimetype": "text/x-python",
   "name": "python",
   "nbconvert_exporter": "python",
   "pygments_lexer": "ipython3",
   "version": "3.8.10"
  }
 },
 "nbformat": 4,
 "nbformat_minor": 5
}
