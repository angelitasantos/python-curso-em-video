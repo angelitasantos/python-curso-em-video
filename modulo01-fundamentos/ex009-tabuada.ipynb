{
 "cells": [
  {
   "cell_type": "markdown",
   "id": "b6759c83",
   "metadata": {},
   "source": [
    "# Desafio 009\n",
    "\n",
    "Exercício Python 009: Faça um programa que leia um número Inteiro qualquer e mostre na tela a sua tabuada."
   ]
  },
  {
   "cell_type": "code",
   "execution_count": 1,
   "id": "ca149ba4",
   "metadata": {},
   "outputs": [
    {
     "name": "stdout",
     "output_type": "stream",
     "text": [
      "Digite um número para ver a sua tabuada: 12\n",
      "---------------\n",
      "12 x  1 =  12\n",
      "12 x  2 =  24\n",
      "12 x  3 =  36\n",
      "12 x  4 =  48\n",
      "12 x  5 =  60\n",
      "12 x  6 =  72\n",
      "12 x  7 =  84\n",
      "12 x  8 =  96\n",
      "12 x  9 = 108\n",
      "12 x 10 = 120\n",
      "---------------\n"
     ]
    }
   ],
   "source": [
    "numero = int(input('Digite um número para ver a sua tabuada: '))\n",
    "print('-'*15)\n",
    "print(f'{numero} x {1:2} = {numero * 1:3}')\n",
    "print(f'{numero} x {2:2} = {numero * 2:3}')\n",
    "print(f'{numero} x {3:2} = {numero * 3:3}')\n",
    "print(f'{numero} x {4:2} = {numero * 4:3}')\n",
    "print(f'{numero} x {5:2} = {numero * 5:3}')\n",
    "print(f'{numero} x {6:2} = {numero * 6:3}')\n",
    "print(f'{numero} x {7:2} = {numero * 7:3}')\n",
    "print(f'{numero} x {8:2} = {numero * 8:3}')\n",
    "print(f'{numero} x {9:2} = {numero * 9:3}')\n",
    "print(f'{numero} x {10:2} = {numero * 10:3}')\n",
    "print('-'*15)"
   ]
  }
 ],
 "metadata": {
  "kernelspec": {
   "display_name": "Python 3 (ipykernel)",
   "language": "python",
   "name": "python3"
  },
  "language_info": {
   "codemirror_mode": {
    "name": "ipython",
    "version": 3
   },
   "file_extension": ".py",
   "mimetype": "text/x-python",
   "name": "python",
   "nbconvert_exporter": "python",
   "pygments_lexer": "ipython3",
   "version": "3.8.10"
  }
 },
 "nbformat": 4,
 "nbformat_minor": 5
}
