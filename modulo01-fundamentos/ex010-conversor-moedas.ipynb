{
 "cells": [
  {
   "cell_type": "markdown",
   "id": "73feb725",
   "metadata": {},
   "source": [
    "# Desafio 010\n",
    "\n",
    "Exercício Python 010: Crie um programa que leia quanto dinheiro uma pessoa tem na carteira e mostre quantos dólares ela pode comprar."
   ]
  },
  {
   "cell_type": "code",
   "execution_count": 1,
   "id": "9afe6075",
   "metadata": {},
   "outputs": [
    {
     "name": "stdout",
     "output_type": "stream",
     "text": [
      "Quanto dinheiro você tem na carteira? R$ 32.7\n",
      "Com R$ 32.70 reais você pode comprar U$$ 10.00 dolares.\n"
     ]
    }
   ],
   "source": [
    "real = float(input('Quanto dinheiro você tem na carteira? R$ '))\n",
    "cotacao_dia = 3.27\n",
    "dolar = real / cotacao_dia\n",
    "print(f'Com R$ {real:.2f} reais você pode comprar U$$ {dolar:.2f} dolares.')"
   ]
  },
  {
   "cell_type": "code",
   "execution_count": 2,
   "id": "7f463f67",
   "metadata": {},
   "outputs": [
    {
     "name": "stdout",
     "output_type": "stream",
     "text": [
      "Quanto dinheiro você tem na carteira? R$ 50\n",
      "Com R$ 50.00 reais você pode comprar U$$ 15.29 dolares.\n",
      "Com R$ 50.00 reais você pode comprar €$ 12.99 euros.\n"
     ]
    }
   ],
   "source": [
    "real = float(input('Quanto dinheiro você tem na carteira? R$ '))\n",
    "cotacao_dia_dolar = 3.27\n",
    "cotacao_dia_euro = 3.85\n",
    "dolar = real / cotacao_dia_dolar\n",
    "euro = real / cotacao_dia_euro\n",
    "\n",
    "print(f'Com R$ {real:.2f} reais você pode comprar U$$ {dolar:.2f} dolares.')\n",
    "print(f'Com R$ {real:.2f} reais você pode comprar €$ {euro:.2f} euros.')"
   ]
  }
 ],
 "metadata": {
  "kernelspec": {
   "display_name": "Python 3 (ipykernel)",
   "language": "python",
   "name": "python3"
  },
  "language_info": {
   "codemirror_mode": {
    "name": "ipython",
    "version": 3
   },
   "file_extension": ".py",
   "mimetype": "text/x-python",
   "name": "python",
   "nbconvert_exporter": "python",
   "pygments_lexer": "ipython3",
   "version": "3.8.10"
  }
 },
 "nbformat": 4,
 "nbformat_minor": 5
}
