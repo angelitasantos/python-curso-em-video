{
 "cells": [
  {
   "cell_type": "markdown",
   "id": "65e80597",
   "metadata": {},
   "source": [
    "# Desafio 023\n",
    "\n",
    "Exercício Python 023: Faça um programa que leia um número de 0 a 9999 e mostre na tela cada um dos dígitos separados."
   ]
  },
  {
   "cell_type": "code",
   "execution_count": 1,
   "id": "102c6809",
   "metadata": {},
   "outputs": [
    {
     "name": "stdout",
     "output_type": "stream",
     "text": [
      "Digite um número de 0 a 9999: 1834\n",
      "----------------------------------------------------------------------------------------------------\n",
      "Analisando o número 1834 ...\n",
      "Unidade: 4\n",
      "Dezena: 3\n",
      "Centena: 8\n",
      "Milhar: 1\n"
     ]
    }
   ],
   "source": [
    "numero = int(input('Digite um número de 0 a 9999: '))\n",
    "\n",
    "unidade = numero // 1 % 10\n",
    "dezena = numero // 10 % 10\n",
    "centena = numero // 100 % 10\n",
    "milhar = numero // 1000 % 10\n",
    "\n",
    "print('-' * 100)\n",
    "print(f'Analisando o número {numero} ...')\n",
    "print(f'Unidade: {unidade}')\n",
    "print(f'Dezena: {dezena}')\n",
    "print(f'Centena: {centena}')\n",
    "print(f'Milhar: {milhar}')\n"
   ]
  },
  {
   "cell_type": "code",
   "execution_count": 2,
   "id": "630e9617",
   "metadata": {},
   "outputs": [
    {
     "name": "stdout",
     "output_type": "stream",
     "text": [
      "Digite um número de 0 a 9999: 9513\n",
      "----------------------------------------------------------------------------------------------------\n",
      "Analisando o número 9513 ...\n",
      "Unidade: 3\n",
      "Dezena: 1\n",
      "Centena: 5\n",
      "Milhar: 9\n"
     ]
    }
   ],
   "source": [
    "# somente funciona quando o número digitado tem quatro dígitos\n",
    "\n",
    "numero = int(input('Digite um número de 0 a 9999: '))\n",
    "numero_string = str(numero)\n",
    "\n",
    "unidade = numero_string[3]\n",
    "dezena = numero_string[2]\n",
    "centena = numero_string[1]\n",
    "milhar = numero_string[0]\n",
    "\n",
    "print('-' * 100)\n",
    "print(f'Analisando o número {numero} ...')\n",
    "print(f'Unidade: {unidade}')\n",
    "print(f'Dezena: {dezena}')\n",
    "print(f'Centena: {centena}')\n",
    "print(f'Milhar: {milhar}')"
   ]
  },
  {
   "cell_type": "code",
   "execution_count": null,
   "id": "30e1194f",
   "metadata": {},
   "outputs": [],
   "source": []
  }
 ],
 "metadata": {
  "kernelspec": {
   "display_name": "Python 3 (ipykernel)",
   "language": "python",
   "name": "python3"
  },
  "language_info": {
   "codemirror_mode": {
    "name": "ipython",
    "version": 3
   },
   "file_extension": ".py",
   "mimetype": "text/x-python",
   "name": "python",
   "nbconvert_exporter": "python",
   "pygments_lexer": "ipython3",
   "version": "3.8.10"
  }
 },
 "nbformat": 4,
 "nbformat_minor": 5
}
