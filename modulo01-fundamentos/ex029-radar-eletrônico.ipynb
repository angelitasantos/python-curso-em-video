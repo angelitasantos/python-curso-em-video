{
 "cells": [
  {
   "cell_type": "markdown",
   "id": "7ec4eb84",
   "metadata": {},
   "source": [
    "# Desafio 029\n",
    "\n",
    "Exercício Python 029: Escreva um programa que leia a velocidade de um carro. Se ele ultrapassar 80Km/h, mostre uma mensagem dizendo que ele foi multado. A multa vai custar R$7,00 por cada Km acima do limite."
   ]
  },
  {
   "cell_type": "code",
   "execution_count": 1,
   "id": "3ee99748",
   "metadata": {},
   "outputs": [
    {
     "name": "stdout",
     "output_type": "stream",
     "text": [
      "Qual é a velocidade atual do carro? 100\n",
      "----------------------------------------------------------------------------------------------------\n",
      "\u001b[1;31;43mMULTADO!\u001b[m\n",
      "\u001b[1;31mVocê ultrapassou o limite de velocidade de \u001b[0;33;45m80km/h.\u001b[m\n",
      "\u001b[0;31mVocê deve pagar uma multa no valor de \u001b[1;31;43mR$ 140.00\u001b[m.\n",
      "\u001b[0;32mTenha um bom dia e dirija com segurança.\u001b[m\n"
     ]
    }
   ],
   "source": [
    "velocidade = float(input('Qual é a velocidade atual do carro? '))\n",
    "\n",
    "velocidade_maxima = 80\n",
    "multa_km = 7\n",
    "valor_multa = (velocidade - velocidade_maxima) * multa_km\n",
    "\n",
    "if velocidade > velocidade_maxima:\n",
    "    print('-' * 100)\n",
    "    print(f'\\033[1;31;43mMULTADO!\\033[m')\n",
    "    print(f'\\033[1;31mVocê ultrapassou o limite de velocidade de \\033[0;33;45m{velocidade_maxima}km/h.\\033[m')\n",
    "    print(f'\\033[0;31mVocê deve pagar uma multa no valor de \\033[1;31;43mR$ {valor_multa:.2f}\\033[m.')\n",
    "\n",
    "print('\\033[0;32mTenha um bom dia e dirija com segurança.\\033[m')"
   ]
  }
 ],
 "metadata": {
  "kernelspec": {
   "display_name": "Python 3 (ipykernel)",
   "language": "python",
   "name": "python3"
  },
  "language_info": {
   "codemirror_mode": {
    "name": "ipython",
    "version": 3
   },
   "file_extension": ".py",
   "mimetype": "text/x-python",
   "name": "python",
   "nbconvert_exporter": "python",
   "pygments_lexer": "ipython3",
   "version": "3.8.10"
  }
 },
 "nbformat": 4,
 "nbformat_minor": 5
}
