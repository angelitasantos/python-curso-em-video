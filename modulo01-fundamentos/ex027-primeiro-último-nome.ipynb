{
 "cells": [
  {
   "cell_type": "markdown",
   "id": "60850194",
   "metadata": {},
   "source": [
    "# Desafio 027\n",
    "\n",
    "Exercício Python 027: Faça um programa que leia o nome completo de uma pessoa, mostrando em seguida o primeiro e o último nome separadamente."
   ]
  },
  {
   "cell_type": "code",
   "execution_count": 1,
   "id": "5494fdc2",
   "metadata": {},
   "outputs": [
    {
     "name": "stdout",
     "output_type": "stream",
     "text": [
      "Digite seu nome completo: Pedro Paulo Pereira Pinto Patrocínio\n",
      "----------------------------------------------------------------------------------------------------\n",
      "Analisando seu nome ...\n",
      "Seu primeiro nome é Pedro.\n",
      "Seu último nome é Patrocínio.\n"
     ]
    }
   ],
   "source": [
    "nome = str(input('Digite seu nome completo: ')).strip()\n",
    "separa_nome = nome.split()\n",
    "primeiro_nome = separa_nome[0]\n",
    "ultimo_nome = separa_nome[len(separa_nome) - 1]\n",
    "\n",
    "print('-' * 100)\n",
    "print(f'Analisando seu nome ...')\n",
    "print(f'Seu primeiro nome é {primeiro_nome}.')\n",
    "print(f'Seu último nome é {ultimo_nome}.')"
   ]
  }
 ],
 "metadata": {
  "kernelspec": {
   "display_name": "Python 3 (ipykernel)",
   "language": "python",
   "name": "python3"
  },
  "language_info": {
   "codemirror_mode": {
    "name": "ipython",
    "version": 3
   },
   "file_extension": ".py",
   "mimetype": "text/x-python",
   "name": "python",
   "nbconvert_exporter": "python",
   "pygments_lexer": "ipython3",
   "version": "3.8.10"
  }
 },
 "nbformat": 4,
 "nbformat_minor": 5
}
