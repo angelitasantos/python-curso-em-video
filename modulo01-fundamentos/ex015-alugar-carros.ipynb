{
 "cells": [
  {
   "cell_type": "markdown",
   "id": "973f94f4",
   "metadata": {},
   "source": [
    "# Desafio 015\n",
    "\n",
    "Exercício Python 015: Escreva um programa que pergunte a quantidade de Km percorridos por um carro alugado e a quantidade de dias pelos quais ele foi alugado. Calcule o preço a pagar, sabendo que o carro custa R$ 60 por dia e R$ 0,15 por Km rodado."
   ]
  },
  {
   "cell_type": "code",
   "execution_count": 1,
   "id": "afbd045f",
   "metadata": {},
   "outputs": [
    {
     "name": "stdout",
     "output_type": "stream",
     "text": [
      "Quantos dias alugados: 8\n",
      "Quantos km rodados: 720\n",
      "O total a pagar é de R$ 588.00\n"
     ]
    }
   ],
   "source": [
    "dias = int(input('Quantos dias alugados: '))\n",
    "km_percorrido = float(input('Quantos km rodados: '))\n",
    "\n",
    "aluguel_dia = 60\n",
    "valor_km_rodado = 0.15\n",
    "\n",
    "valor = aluguel_dia * dias + valor_km_rodado * km_percorrido\n",
    "print(f'O total a pagar é de R$ {valor:.2f}')"
   ]
  }
 ],
 "metadata": {
  "kernelspec": {
   "display_name": "Python 3 (ipykernel)",
   "language": "python",
   "name": "python3"
  },
  "language_info": {
   "codemirror_mode": {
    "name": "ipython",
    "version": 3
   },
   "file_extension": ".py",
   "mimetype": "text/x-python",
   "name": "python",
   "nbconvert_exporter": "python",
   "pygments_lexer": "ipython3",
   "version": "3.8.10"
  }
 },
 "nbformat": 4,
 "nbformat_minor": 5
}
