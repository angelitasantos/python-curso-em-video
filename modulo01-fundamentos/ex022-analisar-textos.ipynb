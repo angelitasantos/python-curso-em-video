{
 "cells": [
  {
   "cell_type": "markdown",
   "id": "2febd0d9",
   "metadata": {},
   "source": [
    "# Desafio 022\n",
    "\n",
    "Exercício Python 022: Crie um programa que leia o nome completo de uma pessoa e mostre: \n",
    "- O nome com todas as letras maiúsculas e minúsculas.\n",
    "- Quantas letras ao todo (sem considerar espaços).\n",
    "- Quantas letras tem o primeiro nome."
   ]
  },
  {
   "cell_type": "code",
   "execution_count": 1,
   "id": "cb95336e",
   "metadata": {},
   "outputs": [
    {
     "name": "stdout",
     "output_type": "stream",
     "text": [
      "Digite seu nome completo: Angelita Junia Moreira Santos\n",
      "----------------------------------------------------------------------------------------------------\n",
      "Analisando seu nome ...\n",
      "Seu nome em letras maiúsculas é: ANGELITA JUNIA MOREIRA SANTOS\n",
      "Seu nome em letras minúsculas é: angelita junia moreira santos\n",
      "Seu nome tem ao todo 26 letras.\n",
      "Seu primeiro nome é Angelita e ele tem 8 letras.\n",
      "Seu último nome é Santos.\n"
     ]
    }
   ],
   "source": [
    "nome = str(input('Digite seu nome completo: ')).strip()\n",
    "nome_upper = nome.upper()\n",
    "nome_lower = nome.lower()\n",
    "quantas_letras = len(nome) - nome.count(' ') # sem espaços entre as palavras\n",
    "letras_primeiro_nome = nome.find(' ')\n",
    "separa_nome = nome.split()\n",
    "primeiro_nome = separa_nome[0]\n",
    "ultimo_nome = separa_nome[-1]\n",
    "\n",
    "print('-' * 100)\n",
    "print(f'Analisando seu nome ...')\n",
    "print(f'Seu nome em letras maiúsculas é: {nome_upper}')\n",
    "print(f'Seu nome em letras minúsculas é: {nome_lower}')\n",
    "print(f'Seu nome tem ao todo {quantas_letras} letras.')\n",
    "print(f'Seu primeiro nome é {primeiro_nome} e ele tem {letras_primeiro_nome} letras.')\n",
    "print(f'Seu último nome é {ultimo_nome}.')"
   ]
  },
  {
   "cell_type": "code",
   "execution_count": null,
   "id": "e240c41d",
   "metadata": {},
   "outputs": [],
   "source": []
  }
 ],
 "metadata": {
  "kernelspec": {
   "display_name": "Python 3 (ipykernel)",
   "language": "python",
   "name": "python3"
  },
  "language_info": {
   "codemirror_mode": {
    "name": "ipython",
    "version": 3
   },
   "file_extension": ".py",
   "mimetype": "text/x-python",
   "name": "python",
   "nbconvert_exporter": "python",
   "pygments_lexer": "ipython3",
   "version": "3.8.10"
  }
 },
 "nbformat": 4,
 "nbformat_minor": 5
}
