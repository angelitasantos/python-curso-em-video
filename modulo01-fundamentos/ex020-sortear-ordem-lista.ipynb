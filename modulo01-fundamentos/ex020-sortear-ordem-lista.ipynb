{
 "cells": [
  {
   "cell_type": "markdown",
   "id": "fa52769d",
   "metadata": {},
   "source": [
    "# Desafio 020\n",
    "\n",
    "Exercício Python 020: O mesmo professor do desafio 019 quer sortear a ordem de apresentação de trabalhos dos alunos. Faça um programa que leia o nome dos quatro alunos e mostre a ordem sorteada."
   ]
  },
  {
   "cell_type": "code",
   "execution_count": 1,
   "id": "5f136520",
   "metadata": {},
   "outputs": [
    {
     "name": "stdout",
     "output_type": "stream",
     "text": [
      "DIgite o primeiro aluno: Maria\n",
      "DIgite o segundo aluno: José\n",
      "DIgite o terceiro aluno: Sônia\n",
      "DIgite o quarto aluno: Bete\n",
      "A ordem de apresentação será:\n",
      "['Maria', 'José', 'Sônia', 'Bete']\n"
     ]
    }
   ],
   "source": [
    "import random\n",
    "\n",
    "aluno_01 = str(input('DIgite o primeiro aluno: '))\n",
    "aluno_02 = str(input('DIgite o segundo aluno: '))\n",
    "aluno_03 = str(input('DIgite o terceiro aluno: '))\n",
    "aluno_04 = str(input('DIgite o quarto aluno: '))\n",
    "lista = [aluno_01, aluno_02, aluno_03, aluno_04]\n",
    "random.shuffle(lista)\n",
    "\n",
    "print(f'A ordem de apresentação será:')\n",
    "print(lista)"
   ]
  },
  {
   "cell_type": "code",
   "execution_count": 2,
   "id": "a80b48c2",
   "metadata": {},
   "outputs": [
    {
     "name": "stdout",
     "output_type": "stream",
     "text": [
      "DIgite o primeiro aluno: Tereza\n",
      "DIgite o segundo aluno: Marta\n",
      "DIgite o terceiro aluno: Irene\n",
      "DIgite o quarto aluno: Lourdes\n",
      "A ordem de apresentação será:\n",
      "['Marta', 'Tereza', 'Irene', 'Lourdes']\n"
     ]
    }
   ],
   "source": [
    "from random import shuffle\n",
    "\n",
    "aluno_01 = str(input('DIgite o primeiro aluno: '))\n",
    "aluno_02 = str(input('DIgite o segundo aluno: '))\n",
    "aluno_03 = str(input('DIgite o terceiro aluno: '))\n",
    "aluno_04 = str(input('DIgite o quarto aluno: '))\n",
    "lista = [aluno_01, aluno_02, aluno_03, aluno_04]\n",
    "shuffle(lista)\n",
    "\n",
    "print(f'A ordem de apresentação será:')\n",
    "print(lista)"
   ]
  }
 ],
 "metadata": {
  "kernelspec": {
   "display_name": "Python 3 (ipykernel)",
   "language": "python",
   "name": "python3"
  },
  "language_info": {
   "codemirror_mode": {
    "name": "ipython",
    "version": 3
   },
   "file_extension": ".py",
   "mimetype": "text/x-python",
   "name": "python",
   "nbconvert_exporter": "python",
   "pygments_lexer": "ipython3",
   "version": "3.8.10"
  }
 },
 "nbformat": 4,
 "nbformat_minor": 5
}
