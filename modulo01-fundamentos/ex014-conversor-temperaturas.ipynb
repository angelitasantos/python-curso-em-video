{
 "cells": [
  {
   "cell_type": "markdown",
   "id": "a0cb96a2",
   "metadata": {},
   "source": [
    "# Desafio 014\n",
    "\n",
    "Exercício Python 014: Escreva um programa que converta uma temperatura digitando em graus Celsius e converta para graus Fahrenheit."
   ]
  },
  {
   "cell_type": "code",
   "execution_count": 1,
   "id": "e6099a9e",
   "metadata": {},
   "outputs": [
    {
     "name": "stdout",
     "output_type": "stream",
     "text": [
      "Informe a temperatura em °C: 40\n",
      "A temperatura de 40.0°C corresponde a 104.0°F.\n"
     ]
    }
   ],
   "source": [
    "celsius = float(input('Informe a temperatura em °C: '))\n",
    "fahrenheit = ((9 * celsius) / 5 ) + 32\n",
    "print(f'A temperatura de {celsius}°C corresponde a {fahrenheit}°F.')"
   ]
  },
  {
   "cell_type": "code",
   "execution_count": 2,
   "id": "39eb1acf",
   "metadata": {},
   "outputs": [
    {
     "name": "stdout",
     "output_type": "stream",
     "text": [
      "Informe a temperatura em °F: 104\n",
      "A temperatura de 104.0°F corresponde a 40.0°C.\n"
     ]
    }
   ],
   "source": [
    "fahrenheit = float(input('Informe a temperatura em °F: '))\n",
    "celsius = (fahrenheit - 32) / (9 / 5)\n",
    "print(f'A temperatura de {fahrenheit}°F corresponde a {celsius}°C.')"
   ]
  }
 ],
 "metadata": {
  "kernelspec": {
   "display_name": "Python 3 (ipykernel)",
   "language": "python",
   "name": "python3"
  },
  "language_info": {
   "codemirror_mode": {
    "name": "ipython",
    "version": 3
   },
   "file_extension": ".py",
   "mimetype": "text/x-python",
   "name": "python",
   "nbconvert_exporter": "python",
   "pygments_lexer": "ipython3",
   "version": "3.8.10"
  }
 },
 "nbformat": 4,
 "nbformat_minor": 5
}
