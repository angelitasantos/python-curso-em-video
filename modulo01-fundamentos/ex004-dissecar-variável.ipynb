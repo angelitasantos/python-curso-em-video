{
 "cells": [
  {
   "cell_type": "markdown",
   "id": "93d70b1e",
   "metadata": {},
   "source": [
    "# Desafio 004\n",
    "\n",
    "Exercício Python 004: Faça um programa que leia algo pelo teclado e mostre na tela o seu tipo primitivo e todas as informações possíveis sobre ele."
   ]
  },
  {
   "cell_type": "code",
   "execution_count": 1,
   "id": "99c204f7",
   "metadata": {},
   "outputs": [
    {
     "name": "stdout",
     "output_type": "stream",
     "text": [
      "Digite algo: Angelita\n",
      "-=-=-=-=-=-=-=-=-=-=-=-=-=-=-=-=-=-=-=-=-=-=-=-=-=-=-=-=-=-=\n",
      "O tipo primitivo desse valor é  <class 'str'>\n",
      "Só tem espaços? False\n",
      "É um número? False\n",
      "É alfabético? True\n",
      "É alfanumérico? True\n",
      "Está em letras maiúsculas? False\n",
      "Está em letras minúsculas? False\n",
      "Está capitalizada? True\n"
     ]
    }
   ],
   "source": [
    "algo = input('Digite algo: ')\n",
    "print('-=' * 30)\n",
    "print('O tipo primitivo desse valor é ', type(algo))\n",
    "print('Só tem espaços?', algo.isspace())\n",
    "print('É um número?', algo.isnumeric())\n",
    "print('É alfabético?', algo.isalpha())\n",
    "print('É alfanumérico?', algo.isalnum())\n",
    "print('Está em letras maiúsculas?', algo.isupper())\n",
    "print('Está em letras minúsculas?', algo.islower())\n",
    "print('Está capitalizada?', algo.istitle())"
   ]
  }
 ],
 "metadata": {
  "kernelspec": {
   "display_name": "Python 3 (ipykernel)",
   "language": "python",
   "name": "python3"
  },
  "language_info": {
   "codemirror_mode": {
    "name": "ipython",
    "version": 3
   },
   "file_extension": ".py",
   "mimetype": "text/x-python",
   "name": "python",
   "nbconvert_exporter": "python",
   "pygments_lexer": "ipython3",
   "version": "3.8.10"
  }
 },
 "nbformat": 4,
 "nbformat_minor": 5
}
