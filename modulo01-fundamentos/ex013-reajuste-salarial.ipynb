{
 "cells": [
  {
   "cell_type": "markdown",
   "id": "57fcae90",
   "metadata": {},
   "source": [
    "# Desafio 013\n",
    "\n",
    "Exercício Python 013: Faça um algoritmo que leia o salário de um funcionário e mostre seu novo salário, com 15% de aumento."
   ]
  },
  {
   "cell_type": "code",
   "execution_count": 1,
   "id": "997869c6",
   "metadata": {},
   "outputs": [
    {
     "name": "stdout",
     "output_type": "stream",
     "text": [
      "Digite o salário do funcionário: R$ 4319.65\n",
      "Um funcionário que recebe R$ 4319.65, com 15$ de aumento, passará a receber R$ 4967.60\n"
     ]
    }
   ],
   "source": [
    "salario = float(input('Digite o salário do funcionário: R$ '))\n",
    "reajuste = 15\n",
    "valor_reajuste = salario * reajuste / 100\n",
    "novo_salario = salario + valor_reajuste\n",
    "\n",
    "print(f'Um funcionário que recebe R$ {salario:.2f}, com {reajuste}$ de aumento, passará a receber R$ {novo_salario:.2f}')"
   ]
  }
 ],
 "metadata": {
  "kernelspec": {
   "display_name": "Python 3 (ipykernel)",
   "language": "python",
   "name": "python3"
  },
  "language_info": {
   "codemirror_mode": {
    "name": "ipython",
    "version": 3
   },
   "file_extension": ".py",
   "mimetype": "text/x-python",
   "name": "python",
   "nbconvert_exporter": "python",
   "pygments_lexer": "ipython3",
   "version": "3.8.10"
  }
 },
 "nbformat": 4,
 "nbformat_minor": 5
}
