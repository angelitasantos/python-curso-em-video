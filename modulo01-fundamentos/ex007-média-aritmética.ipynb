{
 "cells": [
  {
   "cell_type": "markdown",
   "id": "bf99dac3",
   "metadata": {},
   "source": [
    "# Desafio 007\n",
    "\n",
    "Exercício Python 007: Desenvolva um programa que leia as duas notas de um aluno, calcule e mostre a sua média."
   ]
  },
  {
   "cell_type": "code",
   "execution_count": 1,
   "id": "838466a5",
   "metadata": {},
   "outputs": [
    {
     "name": "stdout",
     "output_type": "stream",
     "text": [
      "Digite a primeira nota: 8\n",
      "Digite a segunda nota: 4\n",
      "A média entre 8.0 e 4.0 é igual a: 6.0.\n"
     ]
    }
   ],
   "source": [
    "qtde_notas = 2\n",
    "nota_01 = float(input('Digite a primeira nota: '))\n",
    "nota_02 = float(input('Digite a segunda nota: '))\n",
    "media = (nota_01 + nota_02) / qtde_notas\n",
    "print(f'A média entre {nota_01} e {nota_02} é igual a: {media}.')"
   ]
  },
  {
   "cell_type": "code",
   "execution_count": 2,
   "id": "f8882913",
   "metadata": {},
   "outputs": [
    {
     "name": "stdout",
     "output_type": "stream",
     "text": [
      "Digite a primeira nota: 5.5\n",
      "Digite a segunda nota: 2\n",
      "A média entre 5.5 e 2.0 é igual a: 3.8.\n"
     ]
    }
   ],
   "source": [
    "qtde_notas = 2\n",
    "nota_01 = float(input('Digite a primeira nota: '))\n",
    "nota_02 = float(input('Digite a segunda nota: '))\n",
    "media = (nota_01 + nota_02) / qtde_notas\n",
    "print(f'A média entre {nota_01:.1f} e {nota_02:.1f} é igual a: {media:.1f}.')"
   ]
  }
 ],
 "metadata": {
  "kernelspec": {
   "display_name": "Python 3 (ipykernel)",
   "language": "python",
   "name": "python3"
  },
  "language_info": {
   "codemirror_mode": {
    "name": "ipython",
    "version": 3
   },
   "file_extension": ".py",
   "mimetype": "text/x-python",
   "name": "python",
   "nbconvert_exporter": "python",
   "pygments_lexer": "ipython3",
   "version": "3.8.10"
  }
 },
 "nbformat": 4,
 "nbformat_minor": 5
}
