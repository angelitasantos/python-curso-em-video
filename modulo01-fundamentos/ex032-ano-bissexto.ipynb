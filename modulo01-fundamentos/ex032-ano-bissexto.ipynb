{
 "cells": [
  {
   "cell_type": "markdown",
   "id": "039f84bb",
   "metadata": {},
   "source": [
    "# Desafio 032\n",
    "\n",
    "Exercício Python 032: Faça um programa que leia um ano qualquer e mostre se ele é bissexto."
   ]
  },
  {
   "cell_type": "code",
   "execution_count": 1,
   "id": "1676540f",
   "metadata": {},
   "outputs": [
    {
     "name": "stdout",
     "output_type": "stream",
     "text": [
      "Qual o ano você deseja analisar? Coloque 0 para analisar o ano atual: 1978\n",
      "O ano 1978 NÃO é BISSEXTO.\n"
     ]
    }
   ],
   "source": [
    "from datetime import date\n",
    "\n",
    "ano = int(input('Qual o ano você deseja analisar? Coloque 0 para analisar o ano atual: '))\n",
    "if ano == 0:\n",
    "    ano = date.today().year\n",
    "bissexto = ano % 4 == 0 and ano % 100 != 0 or ano % 400 == 0\n",
    "\n",
    "if bissexto == True:\n",
    "    print(f'O ano {ano} é BISSEXTO.')\n",
    "else:\n",
    "    print(f'O ano {ano} NÃO é BISSEXTO.')"
   ]
  }
 ],
 "metadata": {
  "kernelspec": {
   "display_name": "Python 3 (ipykernel)",
   "language": "python",
   "name": "python3"
  },
  "language_info": {
   "codemirror_mode": {
    "name": "ipython",
    "version": 3
   },
   "file_extension": ".py",
   "mimetype": "text/x-python",
   "name": "python",
   "nbconvert_exporter": "python",
   "pygments_lexer": "ipython3",
   "version": "3.8.10"
  }
 },
 "nbformat": 4,
 "nbformat_minor": 5
}
