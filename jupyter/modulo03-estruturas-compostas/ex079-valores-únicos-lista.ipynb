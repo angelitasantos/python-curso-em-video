{
 "cells": [
  {
   "cell_type": "markdown",
   "id": "11b0e964",
   "metadata": {},
   "source": [
    "# Desafio 079\n",
    "\n",
    "Exercício Python 079: Crie um programa onde o usuário possa digitar vários valores numéricos e cadastre-os em uma lista. Caso o número já exista lá dentro, ele não será adicionado. No final, serão exibidos todos os valores únicos digitados, em ordem crescente. "
   ]
  },
  {
   "cell_type": "code",
   "execution_count": 3,
   "id": "b139ee1f",
   "metadata": {},
   "outputs": [
    {
     "name": "stdout",
     "output_type": "stream",
     "text": [
      "Digite um valor: 5\n",
      "Valor adicionado com sucesso.\n",
      "Quer continuar [S/N]? s\n",
      "Digite um valor: 4\n",
      "Valor adicionado com sucesso.\n",
      "Quer continuar [S/N]? s\n",
      "Digite um valor: 3\n",
      "Valor adicionado com sucesso.\n",
      "Quer continuar [S/N]? s\n",
      "Digite um valor: 9\n",
      "Valor adicionado com sucesso.\n",
      "Quer continuar [S/N]? s\n",
      "Digite um valor: 5\n",
      "Valor duplicado. Valor não adicionado a lista.\n",
      "Quer continuar [S/N]? n\n",
      "Você digitou os valores [3, 4, 5, 9].\n"
     ]
    }
   ],
   "source": [
    "numeros = list()\n",
    "\n",
    "while True:\n",
    "    numero = int(input('Digite um valor: '))\n",
    "    if not numero in numeros:\n",
    "        numeros.append(numero)\n",
    "        print('Valor adicionado com sucesso.')\n",
    "    else:\n",
    "        print('Valor duplicado. Valor não adicionado a lista.')\n",
    "    resposta = str(input('Quer continuar [S/N]? '))\n",
    "    if resposta in 'Nn':\n",
    "        break\n",
    "\n",
    "numeros.sort()\n",
    "print(f'Você digitou os valores {numeros}.')"
   ]
  },
  {
   "cell_type": "code",
   "execution_count": null,
   "id": "13ef9718",
   "metadata": {},
   "outputs": [],
   "source": []
  }
 ],
 "metadata": {
  "kernelspec": {
   "display_name": "Python 3 (ipykernel)",
   "language": "python",
   "name": "python3"
  },
  "language_info": {
   "codemirror_mode": {
    "name": "ipython",
    "version": 3
   },
   "file_extension": ".py",
   "mimetype": "text/x-python",
   "name": "python",
   "nbconvert_exporter": "python",
   "pygments_lexer": "ipython3",
   "version": "3.8.10"
  }
 },
 "nbformat": 4,
 "nbformat_minor": 5
}
