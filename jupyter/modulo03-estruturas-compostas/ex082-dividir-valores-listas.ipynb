{
 "cells": [
  {
   "cell_type": "markdown",
   "id": "859f6b5e",
   "metadata": {},
   "source": [
    "# Desafio 082\n",
    "\n",
    "Exercício Python 082: Crie um programa que vai ler vários números e colocar em uma lista. Depois disso, crie duas listas extras que vão conter apenas os valores pares e os valores ímpares digitados, respectivamente. Ao final, mostre o conteúdo das três listas geradas."
   ]
  },
  {
   "cell_type": "code",
   "execution_count": 5,
   "id": "59ffb366",
   "metadata": {},
   "outputs": [
    {
     "name": "stdout",
     "output_type": "stream",
     "text": [
      "Digite um valor: 5\n",
      "Quer continuar? [S/N]: s\n",
      "Digite um valor: 5\n",
      "Quer continuar? [S/N]: s\n",
      "Digite um valor: 1\n",
      "Quer continuar? [S/N]: s\n",
      "Digite um valor: 3\n",
      "Quer continuar? [S/N]: s\n",
      "Digite um valor: 2\n",
      "Quer continuar? [S/N]: n\n",
      "A lista completa é: [5, 5, 1, 3, 2].\n",
      "A lista de números pares é: [2].\n",
      "A lista de números ímpares é: [1, 3, 5, 5].\n"
     ]
    }
   ],
   "source": [
    "numeros = []\n",
    "pares = []\n",
    "impares = []\n",
    "\n",
    "while True:\n",
    "    numeros.append(int(input('Digite um valor: ')))\n",
    "    resposta = str(input('Quer continuar? [S/N]: '))\n",
    "    if resposta in 'Nn':\n",
    "        break\n",
    "for indice, valor in enumerate(numeros):\n",
    "    if valor % 2 == 0:\n",
    "        pares.append(valor)\n",
    "    elif valor % 2 == 1:\n",
    "        impares.append(valor)\n",
    "\n",
    "\n",
    "print(f'A lista completa é: {numeros}.')\n",
    "pares.sort()\n",
    "print(f'A lista de números pares é: {pares}.')\n",
    "impares.sort()\n",
    "print(f'A lista de números ímpares é: {impares}.')"
   ]
  },
  {
   "cell_type": "code",
   "execution_count": null,
   "id": "4c79d012",
   "metadata": {},
   "outputs": [],
   "source": []
  },
  {
   "cell_type": "code",
   "execution_count": null,
   "id": "ccf3bcac",
   "metadata": {},
   "outputs": [],
   "source": []
  }
 ],
 "metadata": {
  "kernelspec": {
   "display_name": "Python 3 (ipykernel)",
   "language": "python",
   "name": "python3"
  },
  "language_info": {
   "codemirror_mode": {
    "name": "ipython",
    "version": 3
   },
   "file_extension": ".py",
   "mimetype": "text/x-python",
   "name": "python",
   "nbconvert_exporter": "python",
   "pygments_lexer": "ipython3",
   "version": "3.8.10"
  }
 },
 "nbformat": 4,
 "nbformat_minor": 5
}
