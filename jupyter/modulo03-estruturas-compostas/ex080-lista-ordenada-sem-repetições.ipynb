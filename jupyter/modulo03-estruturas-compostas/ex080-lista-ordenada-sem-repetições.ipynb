{
 "cells": [
  {
   "cell_type": "markdown",
   "id": "a74a209d",
   "metadata": {},
   "source": [
    "# Desafio 080\n",
    "\n",
    "Exercício Python 080: Crie um programa onde o usuário possa digitar cinco valores numéricos e cadastre-os em uma lista, já na posição correta de inserção (sem usar o sort()). No final, mostre a lista ordenada na tela."
   ]
  },
  {
   "cell_type": "code",
   "execution_count": 5,
   "id": "c0aead88",
   "metadata": {},
   "outputs": [
    {
     "name": "stdout",
     "output_type": "stream",
     "text": [
      "Digite um valor: 5\n",
      "O número foi adicionado ao final da lista.\n",
      "Digite um valor: 4\n",
      "O número foi adicionado na posição 0 da lista.\n",
      "Digite um valor: 2\n",
      "O número foi adicionado na posição 0 da lista.\n",
      "Digite um valor: 3\n",
      "O número foi adicionado na posição 1 da lista.\n",
      "Digite um valor: 4\n",
      "O número foi adicionado na posição 2 da lista.\n",
      "Os valores digitados em ordem crescente são: [2, 3, 4, 4, 5].\n"
     ]
    }
   ],
   "source": [
    "lista = [] # ou lista = list()\n",
    "for indice in range(0, 5):\n",
    "    numero = int(input('Digite um valor: '))\n",
    "    if indice == 0 or numero > lista[-1]: # lista[-1] ultimo item da lista\n",
    "        lista.append(numero)\n",
    "        print(f'O número foi adicionado ao final da lista.')\n",
    "    else:\n",
    "        posicao = 0\n",
    "        while posicao < len(lista):\n",
    "            if numero <= lista[posicao]:\n",
    "                lista.insert(posicao, numero)\n",
    "                print(f'O número foi adicionado na posição {posicao} da lista.')\n",
    "                break\n",
    "            posicao += 1\n",
    "\n",
    "print(f'Os valores digitados em ordem crescente são: {lista}.')"
   ]
  },
  {
   "cell_type": "code",
   "execution_count": null,
   "id": "3e9454fe",
   "metadata": {},
   "outputs": [],
   "source": []
  },
  {
   "cell_type": "code",
   "execution_count": null,
   "id": "a81a65d3",
   "metadata": {},
   "outputs": [],
   "source": []
  }
 ],
 "metadata": {
  "kernelspec": {
   "display_name": "Python 3 (ipykernel)",
   "language": "python",
   "name": "python3"
  },
  "language_info": {
   "codemirror_mode": {
    "name": "ipython",
    "version": 3
   },
   "file_extension": ".py",
   "mimetype": "text/x-python",
   "name": "python",
   "nbconvert_exporter": "python",
   "pygments_lexer": "ipython3",
   "version": "3.8.10"
  }
 },
 "nbformat": 4,
 "nbformat_minor": 5
}
