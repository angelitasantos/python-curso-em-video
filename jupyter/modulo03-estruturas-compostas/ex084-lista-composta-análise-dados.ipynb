{
 "cells": [
  {
   "cell_type": "markdown",
   "id": "810be5f5",
   "metadata": {},
   "source": [
    "# Desafio 084\n",
    "\n",
    "Exercício Python 084: Faça um programa que leia nome e peso de várias pessoas, guardando tudo em uma lista. No final, mostre:\n",
    "A) Quantas pessoas foram cadastradas.\n",
    "B) Uma listagem com as pessoas mais pesadas.\n",
    "C) Uma listagem com as pessoas mais leves."
   ]
  },
  {
   "cell_type": "code",
   "execution_count": 9,
   "id": "a0be6244",
   "metadata": {},
   "outputs": [
    {
     "name": "stdout",
     "output_type": "stream",
     "text": [
      "Digite o nome: ana\n",
      "Digite o peso: 78\n",
      "Quer continuar? [S/N]: s\n",
      "Digite o nome: pedro\n",
      "Digite o peso: 54\n",
      "Quer continuar? [S/N]: s\n",
      "Digite o nome: jose\n",
      "Digite o peso: 68\n",
      "Quer continuar? [S/N]: s\n",
      "Digite o nome: maria\n",
      "Digite o peso: 78\n",
      "Quer continuar? [S/N]: s\n",
      "Digite o nome: joao\n",
      "Digite o peso: 54\n",
      "Quer continuar? [S/N]: n\n",
      "Os dados são [['ana', 78.0], ['pedro', 54.0], ['jose', 68.0], ['maria', 78.0], ['joao', 54.0]]\n",
      "Você cadastrou 5 pessoas.\n",
      "O maior peso é 78.0 kg. Peso de [ana] [maria] \n",
      "O menor peso é 54.0 kg. Peso de [pedro] [joao] \n"
     ]
    }
   ],
   "source": [
    "temporario = []\n",
    "principal = []\n",
    "maior_peso = menor_peso = 0\n",
    "\n",
    "while True:\n",
    "    temporario.append(str(input('Digite o nome: ')))\n",
    "    temporario.append(float(input('Digite o peso: ')))\n",
    "    \n",
    "    if len(principal) == 0:\n",
    "        maior_peso = menor_peso = temporario[1]\n",
    "    else:\n",
    "        if temporario[1] > maior_peso:\n",
    "            maior_peso = temporario[1]\n",
    "        if temporario[1] < menor_peso:\n",
    "            menor_peso = temporario[1]\n",
    "    \n",
    "    principal.append(temporario[:]) # criar uma copia fatiada da lista temporaria\n",
    "    temporario.clear()\n",
    "    \n",
    "    resposta = str(input('Quer continuar? [S/N]: '))\n",
    "    if resposta in 'Nn':\n",
    "        break\n",
    "        \n",
    "print(f'Os dados são {principal}')\n",
    "print(f'Você cadastrou {len(principal)} pessoas.')\n",
    "print(f'O maior peso é {maior_peso} kg. Peso de ', end='')\n",
    "for pessoa in principal:\n",
    "    if pessoa[1] == maior_peso:\n",
    "        print(f'[{pessoa[0]}] ', end='')\n",
    "print()\n",
    "print(f'O menor peso é {menor_peso} kg. Peso de ', end='')\n",
    "for pessoa in principal:\n",
    "    if pessoa[1] == menor_peso:\n",
    "        print(f'[{pessoa[0]}] ', end='')\n",
    "print()"
   ]
  },
  {
   "cell_type": "code",
   "execution_count": null,
   "id": "c0ea255d",
   "metadata": {},
   "outputs": [],
   "source": []
  }
 ],
 "metadata": {
  "kernelspec": {
   "display_name": "Python 3 (ipykernel)",
   "language": "python",
   "name": "python3"
  },
  "language_info": {
   "codemirror_mode": {
    "name": "ipython",
    "version": 3
   },
   "file_extension": ".py",
   "mimetype": "text/x-python",
   "name": "python",
   "nbconvert_exporter": "python",
   "pygments_lexer": "ipython3",
   "version": "3.8.10"
  }
 },
 "nbformat": 4,
 "nbformat_minor": 5
}
