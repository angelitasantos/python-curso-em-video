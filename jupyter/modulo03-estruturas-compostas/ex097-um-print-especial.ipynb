{
 "cells": [
  {
   "cell_type": "markdown",
   "id": "79216724",
   "metadata": {},
   "source": [
    "# Desafio 097\n",
    "\n",
    "Exercício Python 097: Faça um programa que tenha uma função chamada escreva(), que receba um texto qualquer como parâmetro e mostre uma mensagem com tamanho adaptável.\n",
    "\n",
    "Ex: \n",
    "escreva('Olá, Mundo!')\n",
    "Saída:\n",
    "~~~~~~~~~\n",
    " Olá, Mundo!\n",
    "~~~~~~~~~"
   ]
  }
 ],
 "metadata": {
  "kernelspec": {
   "display_name": "Python 3 (ipykernel)",
   "language": "python",
   "name": "python3"
  },
  "language_info": {
   "codemirror_mode": {
    "name": "ipython",
    "version": 3
   },
   "file_extension": ".py",
   "mimetype": "text/x-python",
   "name": "python",
   "nbconvert_exporter": "python",
   "pygments_lexer": "ipython3",
   "version": "3.8.10"
  }
 },
 "nbformat": 4,
 "nbformat_minor": 5
}
