{
 "cells": [
  {
   "cell_type": "markdown",
   "id": "88a2f9ce",
   "metadata": {},
   "source": [
    "# Desafio 106\n",
    "\n",
    "Exercício Python 106: Faça um mini-sistema que utilize o Interactive Help do Python. O usuário vai digitar o comando e o manual vai aparecer. Quando o usuário digitar a palavra 'FIM', o programa se encerrará. Importante: use cores."
   ]
  },
  {
   "cell_type": "code",
   "execution_count": 1,
   "id": "78931ba7",
   "metadata": {},
   "outputs": [
    {
     "name": "stdout",
     "output_type": "stream",
     "text": [
      "\u001b[0;30;43m~~~~~~~~~~~~~~~~~~~~~~~~~~~\n",
      "  SISTEMA DE AJUDA PyHELP  \n",
      "~~~~~~~~~~~~~~~~~~~~~~~~~~~\n",
      "\u001b[mFunção ou Biblioteca: len\n",
      "\u001b[0;30;44m~~~~~~~~~~~~~~~~~~~~~~~~~~~~~~~~~~~~~~~\n",
      "  Acessando o manual do comando 'len'  \n",
      "~~~~~~~~~~~~~~~~~~~~~~~~~~~~~~~~~~~~~~~\n",
      "\u001b[m\u001b[7;30mHelp on built-in function len in module builtins:\n",
      "\n",
      "len(obj, /)\n",
      "    Return the number of items in a container.\n",
      "\n",
      "\u001b[7;30m\u001b[0;30;43m~~~~~~~~~~~~~~~~~~~~~~~~~~~\n",
      "  SISTEMA DE AJUDA PyHELP  \n",
      "~~~~~~~~~~~~~~~~~~~~~~~~~~~\n",
      "\u001b[mFunção ou Biblioteca: fim\n",
      "\u001b[0;30;43m~~~~~~~~~~~~\n",
      "  ATE LOGO  \n",
      "~~~~~~~~~~~~\n",
      "\u001b[m"
     ]
    }
   ],
   "source": [
    "from time import sleep\n",
    "\n",
    "cores = (\n",
    "    '\\033[m',               # 0 - sem cor\n",
    "    '\\033[0;30;41m',        # 1 - vermelho\n",
    "    '\\033[0;30;42m',        # 2 - verde\n",
    "    '\\033[0;30;43m',        # 3 - amarelo\n",
    "    '\\033[0;30;44m',        # 4 - azul\n",
    "    '\\033[0;30;45m',        # 5 - roxo\n",
    "    '\\033[7;30m',           # 6 - branco\n",
    "    \n",
    ")\n",
    "\n",
    "def ajuda(comando):\n",
    "    titulo(f'Acessando o manual do comando \\'{comando}\\'', 4)\n",
    "    print(cores[6], end='')\n",
    "    help(comando)\n",
    "    print(cores[6], end='')\n",
    "    sleep(2)\n",
    "\n",
    "\n",
    "def titulo(mensagem, cor=0):\n",
    "    tamanho = len(mensagem) + 4\n",
    "    print(cores[cor], end='')\n",
    "    print('~' * tamanho)\n",
    "    print(f'  {mensagem}  ')\n",
    "    print('~' * tamanho)\n",
    "    print(cores[0], end='')\n",
    "    sleep(1)\n",
    "\n",
    "             \n",
    "          \n",
    "# Programa Principal\n",
    "comando = ''\n",
    "\n",
    "while True:\n",
    "    titulo('SISTEMA DE AJUDA PyHELP', 3)\n",
    "    comando = str(input('Função ou Biblioteca: '))\n",
    "    if comando.upper() == 'FIM':\n",
    "        break\n",
    "    else:\n",
    "        ajuda(comando)         \n",
    "titulo('ATE LOGO', 3)"
   ]
  },
  {
   "cell_type": "code",
   "execution_count": null,
   "id": "e348b173",
   "metadata": {},
   "outputs": [],
   "source": []
  },
  {
   "cell_type": "code",
   "execution_count": null,
   "id": "824ce359",
   "metadata": {},
   "outputs": [],
   "source": []
  }
 ],
 "metadata": {
  "kernelspec": {
   "display_name": "Python 3 (ipykernel)",
   "language": "python",
   "name": "python3"
  },
  "language_info": {
   "codemirror_mode": {
    "name": "ipython",
    "version": 3
   },
   "file_extension": ".py",
   "mimetype": "text/x-python",
   "name": "python",
   "nbconvert_exporter": "python",
   "pygments_lexer": "ipython3",
   "version": "3.8.10"
  }
 },
 "nbformat": 4,
 "nbformat_minor": 5
}
