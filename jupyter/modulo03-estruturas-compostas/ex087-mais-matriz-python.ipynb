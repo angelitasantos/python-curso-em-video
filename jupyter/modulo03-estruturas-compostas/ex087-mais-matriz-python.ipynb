{
 "cells": [
  {
   "cell_type": "markdown",
   "id": "275ff2b9",
   "metadata": {},
   "source": [
    "# Desafio 087\n",
    "\n",
    "Exercício Python 087: Aprimore o desafio anterior, mostrando no final: \n",
    "A) A soma de todos os valores pares digitados.\n",
    "B) A soma dos valores da terceira coluna.\n",
    "C) O maior valor da segunda linha."
   ]
  }
 ],
 "metadata": {
  "kernelspec": {
   "display_name": "Python 3 (ipykernel)",
   "language": "python",
   "name": "python3"
  },
  "language_info": {
   "codemirror_mode": {
    "name": "ipython",
    "version": 3
   },
   "file_extension": ".py",
   "mimetype": "text/x-python",
   "name": "python",
   "nbconvert_exporter": "python",
   "pygments_lexer": "ipython3",
   "version": "3.8.10"
  }
 },
 "nbformat": 4,
 "nbformat_minor": 5
}
