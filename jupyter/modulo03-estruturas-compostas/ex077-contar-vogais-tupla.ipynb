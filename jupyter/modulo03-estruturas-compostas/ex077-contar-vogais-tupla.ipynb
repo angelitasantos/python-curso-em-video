{
 "cells": [
  {
   "cell_type": "markdown",
   "id": "aae5d660",
   "metadata": {},
   "source": [
    "# Desafio 077\n",
    "\n",
    "Exercício Python 077: Crie um programa que tenha uma tupla com várias palavras (não usar acentos). Depois disso, você deve mostrar, para cada palavra, quais são as suas vogais."
   ]
  }
 ],
 "metadata": {
  "kernelspec": {
   "display_name": "Python 3 (ipykernel)",
   "language": "python",
   "name": "python3"
  },
  "language_info": {
   "codemirror_mode": {
    "name": "ipython",
    "version": 3
   },
   "file_extension": ".py",
   "mimetype": "text/x-python",
   "name": "python",
   "nbconvert_exporter": "python",
   "pygments_lexer": "ipython3",
   "version": "3.8.10"
  }
 },
 "nbformat": 4,
 "nbformat_minor": 5
}
