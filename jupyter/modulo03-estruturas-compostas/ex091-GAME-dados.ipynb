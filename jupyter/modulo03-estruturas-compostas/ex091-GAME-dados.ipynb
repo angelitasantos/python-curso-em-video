{
 "cells": [
  {
   "cell_type": "markdown",
   "id": "872b0e17",
   "metadata": {},
   "source": [
    "# Desafio 091\n",
    "\n",
    "Exercício Python 091: Crie um programa onde 4 jogadores joguem um dado e tenham resultados aleatórios. Guarde esses resultados em um dicionário em Python. No final, coloque esse dicionário em ordem, sabendo que o vencedor tirou o maior número no dado."
   ]
  },
  {
   "cell_type": "code",
   "execution_count": 15,
   "id": "1f471c9c",
   "metadata": {},
   "outputs": [
    {
     "name": "stdout",
     "output_type": "stream",
     "text": [
      "{'jogador1': 5, 'jogador2': 4, 'jogador3': 4, 'jogador4': 4}\n",
      "Valores sorteados\n",
      "JOGANDO ...\n",
      "jogador1 tirou 5 no dado.\n",
      "JOGANDO ...\n",
      "jogador2 tirou 4 no dado.\n",
      "JOGANDO ...\n",
      "jogador3 tirou 4 no dado.\n",
      "JOGANDO ...\n",
      "jogador4 tirou 4 no dado.\n",
      "\n",
      "[('jogador1', 5), ('jogador2', 4), ('jogador3', 4), ('jogador4', 4)]\n",
      "== Ranking dos jogadores ==\n",
      "   1° lugar: jogador1 com 5\n",
      "   2° lugar: jogador2 com 4\n",
      "   3° lugar: jogador3 com 4\n",
      "   4° lugar: jogador4 com 4\n"
     ]
    }
   ],
   "source": [
    "from random import randint\n",
    "from time import sleep\n",
    "from operator import itemgetter # ordenar um dicionario por chave\n",
    "\n",
    "\n",
    "jogo = {\n",
    "    'jogador1': randint(1, 6),\n",
    "    'jogador2': randint(1, 6),\n",
    "    'jogador3': randint(1, 6),\n",
    "    'jogador4': randint(1, 6)\n",
    "}\n",
    "ranking = list()\n",
    "\n",
    "print(jogo)\n",
    "\n",
    "print('Valores sorteados')\n",
    "for chave, valor in jogo.items():\n",
    "    print('JOGANDO ...')\n",
    "    sleep(2)\n",
    "    print(f'{chave} tirou {valor} no dado.')\n",
    "    \n",
    "\n",
    "ranking = sorted(jogo.items(), key=itemgetter(1), reverse=True)\n",
    "# o resultado é uma lista com tuplas\n",
    "print()\n",
    "print(ranking)\n",
    "print('== Ranking dos jogadores ==')\n",
    "for indice, valor in enumerate(ranking):\n",
    "    sleep(2)\n",
    "    print(f'   {indice + 1}° lugar: {valor[0]} tirou {valor[1]}')\n",
    "    "
   ]
  },
  {
   "cell_type": "code",
   "execution_count": null,
   "id": "55fe7ce1",
   "metadata": {},
   "outputs": [],
   "source": []
  }
 ],
 "metadata": {
  "kernelspec": {
   "display_name": "Python 3 (ipykernel)",
   "language": "python",
   "name": "python3"
  },
  "language_info": {
   "codemirror_mode": {
    "name": "ipython",
    "version": 3
   },
   "file_extension": ".py",
   "mimetype": "text/x-python",
   "name": "python",
   "nbconvert_exporter": "python",
   "pygments_lexer": "ipython3",
   "version": "3.8.10"
  }
 },
 "nbformat": 4,
 "nbformat_minor": 5
}
