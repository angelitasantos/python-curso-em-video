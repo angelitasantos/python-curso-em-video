{
 "cells": [
  {
   "cell_type": "markdown",
   "id": "27d49a3f",
   "metadata": {},
   "source": [
    "# Desafio 078\n",
    "\n",
    "Exercício Python 078: Faça um programa que leia 5 valores numéricos e guarde-os em uma lista. No final, mostre qual foi o maior e o menor valor digitado e as suas respectivas posições na lista. "
   ]
  },
  {
   "cell_type": "code",
   "execution_count": 12,
   "id": "123954f5",
   "metadata": {},
   "outputs": [
    {
     "name": "stdout",
     "output_type": "stream",
     "text": [
      "Digite um valor para a posição 0: 1\n",
      "Digite um valor para a posição 1: 8\n",
      "Digite um valor para a posição 2: 3\n",
      "Digite um valor para a posição 3: 8\n",
      "Digite um valor para a posição 4: 1\n",
      "Você digitou os valores: [1, 8, 3, 8, 1]\n",
      "O maior valor digitado é 8 nas posições 1... 3... \n",
      "O menor valor digitado é 1 nas posições 0... 4... "
     ]
    }
   ],
   "source": [
    "lista_numeros = []\n",
    "maior_valor = 0\n",
    "menor_valor = 0\n",
    "\n",
    "for indice in range(0, 5):\n",
    "    lista_numeros.append(int(input(f'Digite um valor para a posição {indice}: ')))\n",
    "    if indice == 0:\n",
    "        maior_valor = menor_valor = lista_numeros[indice]\n",
    "    else:\n",
    "        if lista_numeros[indice] > maior_valor:\n",
    "            maior_valor = lista_numeros[indice]\n",
    "        if lista_numeros[indice] < menor_valor:\n",
    "            menor_valor = lista_numeros[indice]\n",
    "\n",
    "            \n",
    "print(f'Você digitou os valores: {lista_numeros}')\n",
    "print(f'O maior valor digitado é {maior_valor} nas posições ', end='')\n",
    "for indice, valor in enumerate(lista_numeros):\n",
    "    if valor == maior_valor:\n",
    "        print(f'{indice}... ', end='')\n",
    "print()\n",
    "print(f'O menor valor digitado é {menor_valor} nas posições ', end='')\n",
    "for indice, valor in enumerate(lista_numeros):\n",
    "    if valor == menor_valor:\n",
    "        print(f'{indice}... ', end='')"
   ]
  },
  {
   "cell_type": "code",
   "execution_count": null,
   "id": "6d844c77",
   "metadata": {},
   "outputs": [],
   "source": []
  },
  {
   "cell_type": "code",
   "execution_count": 49,
   "id": "8f59e9f4",
   "metadata": {},
   "outputs": [
    {
     "name": "stdout",
     "output_type": "stream",
     "text": [
      "Digite o nome: angelita\n",
      "Digite a idade: 43\n",
      "Digte a cidade: bh\n",
      "Digite o nome: roberta\n",
      "Digite a idade: 29\n",
      "Digte a cidade: contagem\n",
      "Digite o nome: humberto\n",
      "Digite a idade: 43\n",
      "Digte a cidade: brasilia\n",
      "Você digitou os valores: [['angelita', 43, 'bh'], ['roberta', 29, 'contagem'], ['humberto', 43, 'brasilia']]\n",
      "0\n",
      "1\n",
      "2\n",
      "O maior valor digitado é 43 nas posições 0... 2... \n",
      "O menor valor digitado é 29 nas posições 1... "
     ]
    }
   ],
   "source": [
    "lista_contatos = []\n",
    "lista_nome = []\n",
    "lista_idade = []\n",
    "lista_cidade = []\n",
    "maior_valor = 0\n",
    "menor_valor = 0\n",
    "\n",
    "for indice in range(0, 3):\n",
    "    nome = input('Digite o nome: ')\n",
    "    idade = int(input('Digite a idade: '))\n",
    "    cidade = input('Digte a cidade: ')\n",
    "    lista_contatos.append([nome, idade, cidade])\n",
    "\n",
    "for valor in lista_contatos:\n",
    "    for chave, valor in enumerate(valor):\n",
    "        if chave == 0:\n",
    "            lista_nome.append(valor)\n",
    "            \n",
    "for valor in lista_contatos:\n",
    "    for chave, valor in enumerate(valor):\n",
    "        if chave == 1:\n",
    "            lista_idade.append(valor)\n",
    "\n",
    "for valor in lista_contatos:\n",
    "    for chave, valor in enumerate(valor):\n",
    "        if chave == 2:\n",
    "            lista_cidade.append(valor)\n",
    "            \n",
    "print(f'Você digitou os valores: {lista_contatos}')\n",
    "\n",
    "\n",
    "\n",
    "#########################################\n",
    "\n",
    "for indice in range(len(lista_idade)):\n",
    "    print(indice)\n",
    "    if indice == 0:\n",
    "        maior_valor = menor_valor = lista_idade[indice]\n",
    "    else:\n",
    "        if lista_idade[indice] > maior_valor:\n",
    "            maior_valor = lista_idade[indice]\n",
    "        if lista_idade[indice] < menor_valor:\n",
    "            menor_valor = lista_idade[indice]\n",
    "            \n",
    "print(f'O maior valor digitado é {maior_valor} nas posições ', end='')\n",
    "for indice, valor in enumerate(lista_idade):\n",
    "    if valor == maior_valor:\n",
    "        print(f'{indice}... ', end='')\n",
    "print()\n",
    "print(f'O menor valor digitado é {menor_valor} nas posições ', end='')\n",
    "for indice, valor in enumerate(lista_idade):\n",
    "    if valor == menor_valor:\n",
    "        print(f'{indice}... ', end='')"
   ]
  },
  {
   "cell_type": "code",
   "execution_count": null,
   "id": "0ba08307",
   "metadata": {},
   "outputs": [],
   "source": []
  },
  {
   "cell_type": "code",
   "execution_count": null,
   "id": "a40637ad",
   "metadata": {},
   "outputs": [],
   "source": []
  }
 ],
 "metadata": {
  "kernelspec": {
   "display_name": "Python 3 (ipykernel)",
   "language": "python",
   "name": "python3"
  },
  "language_info": {
   "codemirror_mode": {
    "name": "ipython",
    "version": 3
   },
   "file_extension": ".py",
   "mimetype": "text/x-python",
   "name": "python",
   "nbconvert_exporter": "python",
   "pygments_lexer": "ipython3",
   "version": "3.8.10"
  }
 },
 "nbformat": 4,
 "nbformat_minor": 5
}
