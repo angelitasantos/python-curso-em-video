{
 "cells": [
  {
   "cell_type": "markdown",
   "id": "cdbd48d2",
   "metadata": {},
   "source": [
    "# Desafio 072\n",
    "\n",
    "Exercício Python 072: Crie um programa que tenha uma dupla totalmente preenchida com uma contagem por extenso, de zero até vinte. Seu programa deverá ler um número pelo teclado (entre 0 e 20) e mostrá-lo por extenso."
   ]
  },
  {
   "cell_type": "code",
   "execution_count": 1,
   "id": "1ab6c32a",
   "metadata": {},
   "outputs": [
    {
     "name": "stdout",
     "output_type": "stream",
     "text": [
      "Digite um número inteiro entre 0 e 10: 15\n",
      "Tente novamente! Digite um número inteiro entre 0 e 10: 20\n",
      "Tente novamente! Digite um número inteiro entre 0 e 10: 25\n",
      "Tente novamente! Digite um número inteiro entre 0 e 10: 23\n",
      "Tente novamente! Digite um número inteiro entre 0 e 10: 1\n"
     ]
    }
   ],
   "source": [
    "contagem = ('zero', 'um', 'dois', 'três', 'quatro',\n",
    "           'cinco', 'seis', 'sete', 'oito', 'nove', 'dez')\n",
    "\n",
    "while True:\n",
    "    numero = int(input('Digite um número inteiro entre 0 e 10: '))\n",
    "    if 0 <= numero <= 10:\n",
    "        break\n",
    "    print('Tente novamente! ', end='')"
   ]
  },
  {
   "cell_type": "code",
   "execution_count": null,
   "id": "2d0f2bbb",
   "metadata": {},
   "outputs": [],
   "source": []
  }
 ],
 "metadata": {
  "kernelspec": {
   "display_name": "Python 3 (ipykernel)",
   "language": "python",
   "name": "python3"
  },
  "language_info": {
   "codemirror_mode": {
    "name": "ipython",
    "version": 3
   },
   "file_extension": ".py",
   "mimetype": "text/x-python",
   "name": "python",
   "nbconvert_exporter": "python",
   "pygments_lexer": "ipython3",
   "version": "3.8.10"
  }
 },
 "nbformat": 4,
 "nbformat_minor": 5
}
