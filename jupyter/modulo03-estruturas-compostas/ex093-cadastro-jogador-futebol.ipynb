{
 "cells": [
  {
   "cell_type": "markdown",
   "id": "932fb4f4",
   "metadata": {},
   "source": [
    "# Desafio 093\n",
    "\n",
    "Exercício Python 093: Crie um programa que gerencie o aproveitamento de um jogador de futebol. O programa vai ler o nome do jogador e quantas partidas ele jogou. Depois vai ler a quantidade de gols feitos em cada partida. No final, tudo isso será guardado em um dicionário, incluindo o total de gols feitos durante o campeonato."
   ]
  },
  {
   "cell_type": "code",
   "execution_count": 17,
   "id": "b7b0945c",
   "metadata": {},
   "outputs": [
    {
     "name": "stdout",
     "output_type": "stream",
     "text": [
      "Nome do Jogador: Angelita\n",
      "Quantas partidas Angelita jogou? 2\n",
      "Quantos gols na partida 1? 1\n",
      "Quantos gols na partida 2? 5\n",
      "------------------------------\n",
      "{'nome': 'Angelita', 'gols': [1, 5], 'total_gols': 6}\n",
      "------------------------------\n",
      "O campo nome tem o valor Angelita\n",
      "O campo gols tem o valor [1, 5]\n",
      "O campo total_gols tem o valor 6\n",
      "------------------------------\n",
      "O jogador Angelita jogou 2 partidas.\n",
      "    => Na partida 1 fez 1 gols\n",
      "    => Na partida 2 fez 5 gols\n",
      "Fez um total de 6 gols.\n"
     ]
    }
   ],
   "source": [
    "jogador = dict()\n",
    "partidas = list()\n",
    "\n",
    "jogador['nome'] = str(input('Nome do Jogador: '))\n",
    "total_partidas = int(input(f'Quantas partidas {jogador[\"nome\"]} jogou? '))\n",
    "                           \n",
    "for elemento in range(0, total_partidas):\n",
    "    partidas.append(int(input(f'Quantos gols na partida {elemento + 1}? ')))\n",
    "                           \n",
    "jogador['gols'] = partidas[:]\n",
    "jogador['total_gols'] = sum(partidas)\n",
    "                           \n",
    "print('-' * 30)\n",
    "print(jogador)\n",
    "print('-' * 30)\n",
    "\n",
    "for chave, valor in jogador.items():\n",
    "    print(f'O campo {chave} tem o valor {valor}')\n",
    "    \n",
    "print('-' * 30)\n",
    "print(f'O jogador {jogador[\"nome\"]} jogou {len(jogador[\"gols\"])} partidas.')\n",
    "\n",
    "\n",
    "for indice, valor in enumerate(jogador['gols']):\n",
    "    print(f'    => Na partida {indice + 1} fez {valor} gols')\n",
    "    \n",
    "print(f'Fez um total de {jogador[\"total_gols\"]} gols.')"
   ]
  },
  {
   "cell_type": "code",
   "execution_count": null,
   "id": "0b096963",
   "metadata": {},
   "outputs": [],
   "source": []
  }
 ],
 "metadata": {
  "kernelspec": {
   "display_name": "Python 3 (ipykernel)",
   "language": "python",
   "name": "python3"
  },
  "language_info": {
   "codemirror_mode": {
    "name": "ipython",
    "version": 3
   },
   "file_extension": ".py",
   "mimetype": "text/x-python",
   "name": "python",
   "nbconvert_exporter": "python",
   "pygments_lexer": "ipython3",
   "version": "3.8.10"
  }
 },
 "nbformat": 4,
 "nbformat_minor": 5
}
