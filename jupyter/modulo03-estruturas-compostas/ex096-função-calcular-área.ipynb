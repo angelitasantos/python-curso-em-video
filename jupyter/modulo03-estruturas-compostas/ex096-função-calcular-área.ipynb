{
 "cells": [
  {
   "cell_type": "markdown",
   "id": "afdcc931",
   "metadata": {},
   "source": [
    "# Desafio 096\n",
    "\n",
    "Exercício Python 096: Faça um programa que tenha uma função chamada área(), que receba as dimensões de um terreno retangular (largura e comprimento) e mostre a área do terreno."
   ]
  }
 ],
 "metadata": {
  "kernelspec": {
   "display_name": "Python 3 (ipykernel)",
   "language": "python",
   "name": "python3"
  },
  "language_info": {
   "codemirror_mode": {
    "name": "ipython",
    "version": 3
   },
   "file_extension": ".py",
   "mimetype": "text/x-python",
   "name": "python",
   "nbconvert_exporter": "python",
   "pygments_lexer": "ipython3",
   "version": "3.8.10"
  }
 },
 "nbformat": 4,
 "nbformat_minor": 5
}
