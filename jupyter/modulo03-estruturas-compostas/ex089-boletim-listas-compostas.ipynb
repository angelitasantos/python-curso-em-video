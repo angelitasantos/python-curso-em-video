{
 "cells": [
  {
   "cell_type": "markdown",
   "id": "2a2d56f4",
   "metadata": {},
   "source": [
    "# Desafio 089\n",
    "\n",
    "Exercício Python 089: Crie um programa que leia nome e duas notas de vários alunos e guarde tudo em uma lista composta. No final, mostre um boletim contendo a média de cada um e permita que o usuário possa mostrar as notas de cada aluno individualmente."
   ]
  },
  {
   "cell_type": "code",
   "execution_count": 4,
   "id": "39269258",
   "metadata": {},
   "outputs": [
    {
     "name": "stdout",
     "output_type": "stream",
     "text": [
      "Nome: ana\n",
      "Nota 1: 8\n",
      "Nota 2: 7.5\n",
      "Quer continuar? [S/N] s\n",
      "Nome: pedro\n",
      "Nota 1: 4.7\n",
      "Nota 2: 6\n",
      "Quer continuar? [S/N] s\n",
      "Nome: joao\n",
      "Nota 1: 5.3\n",
      "Nota 2: 7.8\n",
      "Quer continuar? [S/N] s\n",
      "Nome: maria\n",
      "Nota 1: 6.1\n",
      "Nota 2: 8.5\n",
      "Quer continuar? [S/N] n\n",
      "No. NOME         MEDIA\n",
      "--------------------------\n",
      "0   ana            7.8\n",
      "1   pedro          5.3\n",
      "2   joao           6.5\n",
      "3   maria          7.3\n",
      "-----------------------------------\n",
      "Mostrar notas de qual aluno? (Digite 999 para sair.) 0\n",
      "Notas de ana são [8.0, 7.5].\n",
      "-----------------------------------\n",
      "Mostrar notas de qual aluno? (Digite 999 para sair.) 1\n",
      "Notas de pedro são [4.7, 6.0].\n",
      "-----------------------------------\n",
      "Mostrar notas de qual aluno? (Digite 999 para sair.) 2\n",
      "Notas de joao são [5.3, 7.8].\n",
      "-----------------------------------\n",
      "Mostrar notas de qual aluno? (Digite 999 para sair.) 3\n",
      "Notas de maria são [6.1, 8.5].\n",
      "-----------------------------------\n",
      "Mostrar notas de qual aluno? (Digite 999 para sair.) 999\n",
      "FINALIZANDO ...\n",
      "VOLTE SEMPRE.\n"
     ]
    }
   ],
   "source": [
    "alunos = []\n",
    "\n",
    "while True:\n",
    "    nome = str(input('Nome: '))\n",
    "    nota1 = float(input('Nota 1: '))\n",
    "    nota2 = float(input('Nota 2: '))\n",
    "    media = (nota1 + nota2) / 2\n",
    "    alunos.append([nome, [nota1, nota2], media])\n",
    "    \n",
    "    resposta = str(input('Quer continuar? [S/N] '))\n",
    "    if resposta in 'Nn':\n",
    "        break\n",
    "\n",
    "print(f'{\"No.\":<4}{\"NOME\":<10}{\"MEDIA\":>8}')\n",
    "print('-' * 26)\n",
    "for chave, valor in enumerate(alunos):\n",
    "    print(f'{chave:<4}{valor[0]:<10}{valor[2]:>8.1f}')\n",
    "    \n",
    "while True:\n",
    "    print('-' * 35)\n",
    "    opc = int(input('Mostrar notas de qual aluno? (Digite 999 para sair.) '))\n",
    "    if opc == 999:\n",
    "        print('FINALIZANDO ...')\n",
    "        break\n",
    "    if opc <= len(alunos) - 1:\n",
    "        print(f'Notas de {alunos[opc][0]} são {alunos[opc][1]}.')\n",
    "    \n",
    "print('VOLTE SEMPRE.')"
   ]
  },
  {
   "cell_type": "code",
   "execution_count": null,
   "id": "c65c4f70",
   "metadata": {},
   "outputs": [],
   "source": []
  }
 ],
 "metadata": {
  "kernelspec": {
   "display_name": "Python 3 (ipykernel)",
   "language": "python",
   "name": "python3"
  },
  "language_info": {
   "codemirror_mode": {
    "name": "ipython",
    "version": 3
   },
   "file_extension": ".py",
   "mimetype": "text/x-python",
   "name": "python",
   "nbconvert_exporter": "python",
   "pygments_lexer": "ipython3",
   "version": "3.8.10"
  }
 },
 "nbformat": 4,
 "nbformat_minor": 5
}
