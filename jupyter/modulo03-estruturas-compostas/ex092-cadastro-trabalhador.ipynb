{
 "cells": [
  {
   "cell_type": "markdown",
   "id": "74297485",
   "metadata": {},
   "source": [
    "# Desafio 092\n",
    "\n",
    "Exercício Python 092: Crie um programa que leia nome, ano de nascimento e carteira de trabalho e cadastre-o (com idade) em um dicionário. Se por acaso a CTPS for diferente de ZERO, o dicionário receberá também o ano de contratação e o salário. Calcule e acrescente, além da idade, com quantos anos a pessoa vai se aposentar."
   ]
  },
  {
   "cell_type": "code",
   "execution_count": 3,
   "id": "f79b61ac",
   "metadata": {},
   "outputs": [
    {
     "name": "stdout",
     "output_type": "stream",
     "text": [
      "Nome: Angelita\n",
      "Ano de nascimento: 1978\n",
      "Carteira de Trabalho (0 não tem): 1\n",
      "Ano de contratacao: 1996\n",
      "Salário: R$ 250\n",
      "{'nome': 'Angelita', 'idade': 44, 'ctps': 1, 'contratacao': 1996, 'salario': 250, 'aposentadoria': 53}\n",
      "nome tem o valor Angelita\n",
      "idade tem o valor 44\n",
      "ctps tem o valor 1\n",
      "contratacao tem o valor 1996\n",
      "salario tem o valor 250\n",
      "aposentadoria tem o valor 53\n"
     ]
    }
   ],
   "source": [
    "from datetime import datetime\n",
    "\n",
    "dados = dict()\n",
    "dados['nome'] = str(input('Nome: '))\n",
    "nascimento = int(input('Ano de nascimento: '))\n",
    "dados['idade'] = datetime.now().year - nascimento\n",
    "dados['ctps'] = int(input('Carteira de Trabalho (0 não tem): '))\n",
    "\n",
    "if dados['ctps'] != 0:\n",
    "    dados['contratacao'] = int(input('Ano de contratacao: '))\n",
    "    dados['salario'] = int(input('Salário: R$ '))\n",
    "    dados['aposentadoria'] = dados['idade'] + ((dados['contratacao'] + 35) - datetime.now().year)\n",
    "    \n",
    "print(dados)\n",
    "\n",
    "for chave, valor in dados.items():\n",
    "    print(f'{chave} tem o valor {valor}')"
   ]
  },
  {
   "cell_type": "code",
   "execution_count": null,
   "id": "e40916f6",
   "metadata": {},
   "outputs": [],
   "source": []
  }
 ],
 "metadata": {
  "kernelspec": {
   "display_name": "Python 3 (ipykernel)",
   "language": "python",
   "name": "python3"
  },
  "language_info": {
   "codemirror_mode": {
    "name": "ipython",
    "version": 3
   },
   "file_extension": ".py",
   "mimetype": "text/x-python",
   "name": "python",
   "nbconvert_exporter": "python",
   "pygments_lexer": "ipython3",
   "version": "3.8.10"
  }
 },
 "nbformat": 4,
 "nbformat_minor": 5
}
