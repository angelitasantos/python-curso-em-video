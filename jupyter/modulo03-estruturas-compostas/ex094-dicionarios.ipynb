{
 "cells": [
  {
   "cell_type": "markdown",
   "id": "c3a304ef",
   "metadata": {},
   "source": [
    "# Curso em Vídeo - Python"
   ]
  },
  {
   "cell_type": "markdown",
   "id": "0d9fa47d",
   "metadata": {},
   "source": [
    "## Exercício Python #094 - Unindo dicionários e listas"
   ]
  },
  {
   "cell_type": "markdown",
   "id": "81b1d55a",
   "metadata": {},
   "source": [
    "Exercício Python 094: Crie um programa que leia nome, sexo e idade de várias pessoas, guardando os dados de cada pessoa em um dicionário e todos os dicionários em uma lista. No final, mostre: \n",
    "- A) Quantas pessoas foram cadastradas\n",
    "- B) A média de idade\n",
    "- C) Uma lista com as mulheres\n",
    "- D) Uma lista de pessoas com idade acima da média"
   ]
  },
  {
   "cell_type": "code",
   "execution_count": 18,
   "id": "d1dd21e2",
   "metadata": {},
   "outputs": [
    {
     "name": "stdout",
     "output_type": "stream",
     "text": [
      "Nome: Angelita\n",
      "Sexo: [M / F]: f\n",
      "Idade: 43\n",
      "Quer continuar: [S /N] s\n",
      "Nome: Anderson\n",
      "Sexo: [M / F]: m\n",
      "Idade: 38\n",
      "Quer continuar: [S /N] s\n",
      "Nome: Roberta\n",
      "Sexo: [M / F]: f\n",
      "Idade: 28\n",
      "Quer continuar: [S /N] n\n",
      "[{'nome': 'Angelita', 'sexo': 'F', 'idade': 43}, {'nome': 'Anderson', 'sexo': 'M', 'idade': 38}, {'nome': 'Roberta', 'sexo': 'F', 'idade': 28}]\n",
      "-=-=-=-=-=-=-=-=-=-=-=-=-=-=-=-=-=-=-=-=-=-=-=-=-=-=-=-=-=-=\n",
      "Ao todo temos 3 pessoas cadastradas.\n",
      "A media de idade da turma é 36.33 anos.\n",
      "As mulheres cadastradas são: \n",
      "Angelita \n",
      "Roberta \n",
      "\n",
      "Pessoas que estão com a idade acima da média: \n",
      " nome = Angelita; sexo = F; idade = 43; \n",
      " nome = Anderson; sexo = M; idade = 38; \n",
      "\n",
      "<< ENCERRADO >>\n"
     ]
    }
   ],
   "source": [
    "turma = list()\n",
    "pessoa = dict()\n",
    "\n",
    "soma = media = 0\n",
    "\n",
    "while True:\n",
    "    pessoa.clear()\n",
    "    pessoa['nome'] = input('Nome: ')\n",
    "    while True:\n",
    "        pessoa['sexo'] = input('Sexo: [M / F]: ').upper()[0]\n",
    "        if pessoa['sexo'] in 'MF':\n",
    "            break\n",
    "        print('ERRO! Por favor, digite M ou F.')\n",
    "    pessoa['idade'] = int(input('Idade: '))\n",
    "    soma += pessoa['idade']\n",
    "    turma.append(pessoa.copy())\n",
    "    while True:\n",
    "        resposta = input('Quer continuar: [S /N] ').upper()[0]\n",
    "        if resposta in 'SN':\n",
    "            break\n",
    "        print('ERRO! Por favor, responda S ou N.')\n",
    "    if resposta == 'N':\n",
    "        break \n",
    "        \n",
    "print(turma)\n",
    "print('-=' * 30)\n",
    "\n",
    "print(f'Ao todo temos {len(turma)} pessoas cadastradas.')\n",
    "\n",
    "media = soma / len(turma)\n",
    "print(f'A media de idade da turma é {media:5.2f} anos.')\n",
    "\n",
    "print('As mulheres cadastradas são: ')\n",
    "for pessoa in turma:\n",
    "    if pessoa['sexo'] == 'F':\n",
    "        print(f'{pessoa[\"nome\"]} ')\n",
    "print()\n",
    "\n",
    "print('Pessoas que estão com a idade acima da média: ')\n",
    "for pessoa in turma:\n",
    "    if pessoa['idade'] >= media:\n",
    "        print(' ', end='')\n",
    "        for key, value in pessoa.items():\n",
    "            print(f'{key} = {value}; ', end='')\n",
    "        print()\n",
    "print()\n",
    "print('<< ENCERRADO >>')"
   ]
  },
  {
   "cell_type": "code",
   "execution_count": null,
   "id": "117ee3c4",
   "metadata": {},
   "outputs": [],
   "source": []
  }
 ],
 "metadata": {
  "kernelspec": {
   "display_name": "Python 3 (ipykernel)",
   "language": "python",
   "name": "python3"
  },
  "language_info": {
   "codemirror_mode": {
    "name": "ipython",
    "version": 3
   },
   "file_extension": ".py",
   "mimetype": "text/x-python",
   "name": "python",
   "nbconvert_exporter": "python",
   "pygments_lexer": "ipython3",
   "version": "3.8.10"
  }
 },
 "nbformat": 4,
 "nbformat_minor": 5
}
