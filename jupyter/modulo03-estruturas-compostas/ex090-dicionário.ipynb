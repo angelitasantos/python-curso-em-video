{
 "cells": [
  {
   "cell_type": "markdown",
   "id": "631d7d90",
   "metadata": {},
   "source": [
    "# Desafio 090\n",
    "\n",
    "Exercício Python 090: Faça um programa que leia nome e média de um aluno, guardando também a situação em um dicionário. No final, mostre o conteúdo da estrutura na tela."
   ]
  },
  {
   "cell_type": "code",
   "execution_count": 3,
   "id": "dc830e54",
   "metadata": {},
   "outputs": [
    {
     "name": "stdout",
     "output_type": "stream",
     "text": [
      "Nome: Angelita\n",
      "Média de Angelita: 5.5\n",
      "------------------------------\n",
      "  - nome é igual a Angelita.\n",
      "  - media é igual a 5.5.\n",
      "  - situacao é igual a RECUPERAÇÃO.\n"
     ]
    }
   ],
   "source": [
    "aluno = dict()\n",
    "\n",
    "aluno['nome'] = str(input('Nome: '))\n",
    "aluno['media'] = float(input(f'Média de {aluno[\"nome\"]}: '))\n",
    "\n",
    "if aluno['media'] >= 7:\n",
    "    aluno['situacao'] = 'APROVADO'\n",
    "elif 5 <= aluno['media'] < 7:\n",
    "    aluno['situacao'] = 'RECUPERAÇÃO'\n",
    "else:\n",
    "    aluno['situacao'] = 'REPROVADO'\n",
    "\n",
    "print('-' * 30)\n",
    "\n",
    "for chave, valor in aluno.items():\n",
    "    print(f'  - {chave} é igual a {valor}.')"
   ]
  },
  {
   "cell_type": "code",
   "execution_count": null,
   "id": "ab786dc8",
   "metadata": {},
   "outputs": [],
   "source": []
  }
 ],
 "metadata": {
  "kernelspec": {
   "display_name": "Python 3 (ipykernel)",
   "language": "python",
   "name": "python3"
  },
  "language_info": {
   "codemirror_mode": {
    "name": "ipython",
    "version": 3
   },
   "file_extension": ".py",
   "mimetype": "text/x-python",
   "name": "python",
   "nbconvert_exporter": "python",
   "pygments_lexer": "ipython3",
   "version": "3.8.10"
  }
 },
 "nbformat": 4,
 "nbformat_minor": 5
}
