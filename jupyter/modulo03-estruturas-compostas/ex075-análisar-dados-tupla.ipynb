{
 "cells": [
  {
   "cell_type": "markdown",
   "id": "87138366",
   "metadata": {},
   "source": [
    "# Desafio 075\n",
    "\n",
    "Exercício Python 075: Desenvolva um programa que leia quatro valores pelo teclado e guarde-os em uma tupla. No final, mostre:\n",
    "\n",
    "A) Quantas vezes apareceu o valor 9.\n",
    "B) Em que posição foi digitado o primeiro valor 3.\n",
    "C) Quais foram os números pares."
   ]
  }
 ],
 "metadata": {
  "kernelspec": {
   "display_name": "Python 3 (ipykernel)",
   "language": "python",
   "name": "python3"
  },
  "language_info": {
   "codemirror_mode": {
    "name": "ipython",
    "version": 3
   },
   "file_extension": ".py",
   "mimetype": "text/x-python",
   "name": "python",
   "nbconvert_exporter": "python",
   "pygments_lexer": "ipython3",
   "version": "3.8.10"
  }
 },
 "nbformat": 4,
 "nbformat_minor": 5
}
