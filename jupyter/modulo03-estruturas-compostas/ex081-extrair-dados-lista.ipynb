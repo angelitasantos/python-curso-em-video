{
 "cells": [
  {
   "cell_type": "markdown",
   "id": "80e29fff",
   "metadata": {},
   "source": [
    "# Desafio 081\n",
    "\n",
    "Exercício Python 081: Crie um programa que vai ler vários números e colocar em uma lista. Depois disso, mostre:\n",
    "A) Quantos números foram digitados.\n",
    "B) A lista de valores, ordenada de forma decrescente.\n",
    "C) Se o valor 5 foi digitado e está ou não na lista."
   ]
  },
  {
   "cell_type": "code",
   "execution_count": 5,
   "id": "84b59850",
   "metadata": {},
   "outputs": [
    {
     "name": "stdout",
     "output_type": "stream",
     "text": [
      "Digite um valor: 7\n",
      "Quer continuar? [S/N]: s\n",
      "Digite um valor: 8\n",
      "Quer continuar? [S/N]: s\n",
      "Digite um valor: 5\n",
      "Quer continuar? [S/N]: s\n",
      "Digite um valor: 2\n",
      "Quer continuar? [S/N]: s\n",
      "Digite um valor: 4\n",
      "Quer continuar? [S/N]: n\n",
      "Você digitou 5 elementos.\n",
      "Os valores em ordem descrescente são: [8, 7, 5, 4, 2].\n",
      "O valor 5 faz parte da lista.\n"
     ]
    }
   ],
   "source": [
    "valores = []\n",
    "while True:\n",
    "    valores.append(int(input('Digite um valor: ')))\n",
    "    resposta = str(input('Quer continuar? [S/N]: '))\n",
    "    if resposta in 'Nn':\n",
    "        break\n",
    "\n",
    "print(f'Você digitou {len(valores)} elementos.')\n",
    "valores.sort(reverse=True)\n",
    "print(f'Os valores em ordem descrescente são: {valores}.')\n",
    "\n",
    "valor = 5\n",
    "if valor in valores:\n",
    "    print(f'O valor {valor} faz parte da lista.')\n",
    "else:\n",
    "    print(f'O valor {valor} não foi encontrado.')"
   ]
  }
 ],
 "metadata": {
  "kernelspec": {
   "display_name": "Python 3 (ipykernel)",
   "language": "python",
   "name": "python3"
  },
  "language_info": {
   "codemirror_mode": {
    "name": "ipython",
    "version": 3
   },
   "file_extension": ".py",
   "mimetype": "text/x-python",
   "name": "python",
   "nbconvert_exporter": "python",
   "pygments_lexer": "ipython3",
   "version": "3.8.10"
  }
 },
 "nbformat": 4,
 "nbformat_minor": 5
}
