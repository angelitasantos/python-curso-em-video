{
 "cells": [
  {
   "cell_type": "markdown",
   "id": "82d0591c",
   "metadata": {},
   "source": [
    "# Desafio 045\n",
    "\n",
    "Exercício Python 045: Crie um programa que faça o computador jogar Jokenpô com você."
   ]
  }
 ],
 "metadata": {
  "kernelspec": {
   "display_name": "Python 3 (ipykernel)",
   "language": "python",
   "name": "python3"
  },
  "language_info": {
   "codemirror_mode": {
    "name": "ipython",
    "version": 3
   },
   "file_extension": ".py",
   "mimetype": "text/x-python",
   "name": "python",
   "nbconvert_exporter": "python",
   "pygments_lexer": "ipython3",
   "version": "3.8.10"
  }
 },
 "nbformat": 4,
 "nbformat_minor": 5
}
