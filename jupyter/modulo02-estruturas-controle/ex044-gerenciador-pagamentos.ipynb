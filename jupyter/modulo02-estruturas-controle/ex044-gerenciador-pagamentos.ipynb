{
 "cells": [
  {
   "cell_type": "markdown",
   "id": "051c3c7a",
   "metadata": {},
   "source": [
    "# Desafio 044\n",
    "\n",
    "Exercício Python 044: Elabore um programa que calcule o valor a ser pago por um produto, considerando o seu preço normal e condição de pagamento:\n",
    "- à vista dinheiro/cheque: 10% de desconto\n",
    "- à vista no cartão: 5% de desconto\n",
    "- em até 2x no cartão: preço formal\n",
    "- 3x ou mais no cartão: 20% de juros"
   ]
  }
 ],
 "metadata": {
  "kernelspec": {
   "display_name": "Python 3 (ipykernel)",
   "language": "python",
   "name": "python3"
  },
  "language_info": {
   "codemirror_mode": {
    "name": "ipython",
    "version": 3
   },
   "file_extension": ".py",
   "mimetype": "text/x-python",
   "name": "python",
   "nbconvert_exporter": "python",
   "pygments_lexer": "ipython3",
   "version": "3.8.10"
  }
 },
 "nbformat": 4,
 "nbformat_minor": 5
}
