{
 "cells": [
  {
   "cell_type": "markdown",
   "id": "ddbcefb9",
   "metadata": {},
   "source": [
    "# Desafio 047\n",
    "\n",
    "Exercício Python 047: Crie um programa que mostre na tela todos os números pares que estão no intervalo entre 1 e 50."
   ]
  }
 ],
 "metadata": {
  "kernelspec": {
   "display_name": "Python 3 (ipykernel)",
   "language": "python",
   "name": "python3"
  },
  "language_info": {
   "codemirror_mode": {
    "name": "ipython",
    "version": 3
   },
   "file_extension": ".py",
   "mimetype": "text/x-python",
   "name": "python",
   "nbconvert_exporter": "python",
   "pygments_lexer": "ipython3",
   "version": "3.8.10"
  }
 },
 "nbformat": 4,
 "nbformat_minor": 5
}
