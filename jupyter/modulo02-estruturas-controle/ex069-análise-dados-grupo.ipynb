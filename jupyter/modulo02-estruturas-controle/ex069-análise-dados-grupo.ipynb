{
 "cells": [
  {
   "cell_type": "markdown",
   "id": "28ecda79",
   "metadata": {},
   "source": [
    "# Desafio 069\n",
    "\n",
    "Exercício Python 069: Crie um programa que leia a idade e o sexo de várias pessoas. A cada pessoa cadastrada, o programa deverá perguntar se o usuário quer ou não continuar. No final, mostre:\n",
    "A) quantas pessoas tem mais de 18 anos.\n",
    "B) quantos homens foram cadastrados.\n",
    "C) quantas mulheres tem menos de 20 anos. "
   ]
  }
 ],
 "metadata": {
  "kernelspec": {
   "display_name": "Python 3 (ipykernel)",
   "language": "python",
   "name": "python3"
  },
  "language_info": {
   "codemirror_mode": {
    "name": "ipython",
    "version": 3
   },
   "file_extension": ".py",
   "mimetype": "text/x-python",
   "name": "python",
   "nbconvert_exporter": "python",
   "pygments_lexer": "ipython3",
   "version": "3.8.10"
  }
 },
 "nbformat": 4,
 "nbformat_minor": 5
}
