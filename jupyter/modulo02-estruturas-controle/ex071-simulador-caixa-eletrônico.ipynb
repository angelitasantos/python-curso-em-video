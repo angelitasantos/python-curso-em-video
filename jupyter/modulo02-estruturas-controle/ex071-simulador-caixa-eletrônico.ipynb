{
 "cells": [
  {
   "cell_type": "markdown",
   "id": "13750a8b",
   "metadata": {},
   "source": [
    "# Desafio 071\n",
    "\n",
    "Exercício Python 071: Crie um programa que simule o funcionamento de um caixa eletrônico. No início, pergunte ao usuário qual será o valor a ser sacado (número inteiro) e o programa vai informar quantas cédulas de cada valor serão entregues.\n",
    "OBS: considere que o caixa possui cédulas de R$ 50, R$ 20, R$ 10 e R$ 1."
   ]
  },
  {
   "cell_type": "code",
   "execution_count": 1,
   "id": "2c37754d",
   "metadata": {},
   "outputs": [
    {
     "name": "stdout",
     "output_type": "stream",
     "text": [
      "========================================\n",
      " - CAIXA ELETRÔNICO - \n",
      "========================================\n",
      "Qual o valor você deseja sacar: R$ 135\n",
      "Total de 2 cédulas de R$ 50.00.\n",
      "Total de 1 cédulas de R$ 20.00.\n",
      "Total de 1 cédulas de R$ 10.00.\n",
      "Total de 5 cédulas de R$ 1.00.\n",
      "~~~~~~~~~~~~~~~~~~~~~~~~~~~~~~~~~~~~~~~~\n",
      "  ---------- VOLTE SEMPRE! ---------- \n"
     ]
    }
   ],
   "source": [
    "print('=' * 40)\n",
    "print(' - CAIXA ELETRÔNICO - ')\n",
    "print('=' * 40)\n",
    "\n",
    "valor = int(input('Qual o valor você deseja sacar: R$ '))\n",
    "total = valor\n",
    "\n",
    "cedula = 50\n",
    "total_cedulas = 0\n",
    "\n",
    "while True:\n",
    "    if total >= cedula:\n",
    "        total -= cedula\n",
    "        total_cedulas += 1\n",
    "    else:\n",
    "        if total_cedulas > 0:\n",
    "            print(f'Total de {total_cedulas} cédulas de R$ {cedula:.2f}.')\n",
    "        if cedula == 50:\n",
    "            cedula = 20\n",
    "        elif cedula == 20:\n",
    "            cedula = 10\n",
    "        elif cedula == 10:\n",
    "            cedula = 1\n",
    "        total_cedulas = 0\n",
    "        if total == 0:\n",
    "            break\n",
    "\n",
    "print('~' * 40)\n",
    "print('  ---------- VOLTE SEMPRE! ---------- ')"
   ]
  }
 ],
 "metadata": {
  "kernelspec": {
   "display_name": "Python 3 (ipykernel)",
   "language": "python",
   "name": "python3"
  },
  "language_info": {
   "codemirror_mode": {
    "name": "ipython",
    "version": 3
   },
   "file_extension": ".py",
   "mimetype": "text/x-python",
   "name": "python",
   "nbconvert_exporter": "python",
   "pygments_lexer": "ipython3",
   "version": "3.8.10"
  }
 },
 "nbformat": 4,
 "nbformat_minor": 5
}
