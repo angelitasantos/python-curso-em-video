{
 "cells": [
  {
   "cell_type": "markdown",
   "id": "0555c1b7",
   "metadata": {},
   "source": [
    "# Desafio 063\n",
    "\n",
    "Exercício Python 063: Escreva um programa que leia um número N inteiro qualquer e mostre na tela os N primeiros elementos de uma Sequência de Fibonacci. \n",
    "\n",
    "Ex: 0 - 1 - 1 - 2 - 3 - 5 - 8"
   ]
  },
  {
   "cell_type": "code",
   "execution_count": 9,
   "id": "8011bbfb",
   "metadata": {},
   "outputs": [
    {
     "name": "stdout",
     "output_type": "stream",
     "text": [
      "----------------------------------------------------------------------------------------------------\n",
      "Sequência de Fibonacci.\n",
      "----------------------------------------------------------------------------------------------------\n",
      "Quantos termos você quer mostrar? 12\n",
      "~~~~~~~~~~~~~~~~~~~~~~~~~~~~~~~~~~~~~~~~~~~~~~~~~~~~~~~~~~~~~~~~~~~~~~\n",
      "0 -> 1 -> 1 -> 2 -> 3 -> 5 -> 8 -> 13 -> 21 -> 34 -> 55 -> 89 -> FIM!\n",
      "~~~~~~~~~~~~~~~~~~~~~~~~~~~~~~~~~~~~~~~~~~~~~~~~~~~~~~~~~~~~~~~~~~~~~~\n"
     ]
    }
   ],
   "source": [
    "print('-' * 100)\n",
    "print('Sequência de Fibonacci.')\n",
    "print('-' * 100)\n",
    "\n",
    "numero = int(input('Quantos termos você quer mostrar? '))\n",
    "termo_01 = 0\n",
    "termo_02 = 1\n",
    "\n",
    "print('~' * 70)\n",
    "print(f'{termo_01} -> {termo_02}', end='')\n",
    "\n",
    "contador = 3\n",
    "while contador <= numero:\n",
    "    termo_03 = termo_01 + termo_02\n",
    "    print(f' -> {termo_03}', end='')\n",
    "    termo_01 = termo_02\n",
    "    termo_02 = termo_03\n",
    "    contador += 1\n",
    "\n",
    "print(' -> FIM!')\n",
    "print('~' * 70)"
   ]
  },
  {
   "cell_type": "code",
   "execution_count": null,
   "id": "122bde8c",
   "metadata": {},
   "outputs": [],
   "source": []
  }
 ],
 "metadata": {
  "kernelspec": {
   "display_name": "Python 3 (ipykernel)",
   "language": "python",
   "name": "python3"
  },
  "language_info": {
   "codemirror_mode": {
    "name": "ipython",
    "version": 3
   },
   "file_extension": ".py",
   "mimetype": "text/x-python",
   "name": "python",
   "nbconvert_exporter": "python",
   "pygments_lexer": "ipython3",
   "version": "3.8.10"
  }
 },
 "nbformat": 4,
 "nbformat_minor": 5
}
