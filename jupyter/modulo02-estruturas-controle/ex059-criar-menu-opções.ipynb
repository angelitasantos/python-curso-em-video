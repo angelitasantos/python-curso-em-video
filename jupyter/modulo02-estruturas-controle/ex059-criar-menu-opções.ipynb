{
 "cells": [
  {
   "cell_type": "markdown",
   "id": "6e45a961",
   "metadata": {},
   "source": [
    "# Desafio 059\n",
    "\n",
    "Exercício Python 059: Crie um programa que leia dois valores e mostre um menu na tela:\n",
    "- [ 1 ] somar\n",
    "- [ 2 ] multiplicar\n",
    "- [ 3 ] maior\n",
    "- [ 4 ] novos números\n",
    "- [ 5 ] sair do programa\n",
    "\n",
    "Seu programa deverá realizar a operação solicitada em cada caso."
   ]
  }
 ],
 "metadata": {
  "kernelspec": {
   "display_name": "Python 3 (ipykernel)",
   "language": "python",
   "name": "python3"
  },
  "language_info": {
   "codemirror_mode": {
    "name": "ipython",
    "version": 3
   },
   "file_extension": ".py",
   "mimetype": "text/x-python",
   "name": "python",
   "nbconvert_exporter": "python",
   "pygments_lexer": "ipython3",
   "version": "3.8.10"
  }
 },
 "nbformat": 4,
 "nbformat_minor": 5
}
