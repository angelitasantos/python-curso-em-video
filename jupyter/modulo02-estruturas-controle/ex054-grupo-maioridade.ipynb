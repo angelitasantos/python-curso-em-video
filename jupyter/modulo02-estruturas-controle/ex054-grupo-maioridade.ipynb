{
 "cells": [
  {
   "cell_type": "markdown",
   "id": "3dfffdd0",
   "metadata": {},
   "source": [
    "# Desafio 054\n",
    "\n",
    "Exercício Python 054: Crie um programa que leia o ano de nascimento de sete pessoas. No final, mostre quantas pessoas ainda não atingiram a maioridade e quantas já são maiores."
   ]
  }
 ],
 "metadata": {
  "kernelspec": {
   "display_name": "Python 3 (ipykernel)",
   "language": "python",
   "name": "python3"
  },
  "language_info": {
   "codemirror_mode": {
    "name": "ipython",
    "version": 3
   },
   "file_extension": ".py",
   "mimetype": "text/x-python",
   "name": "python",
   "nbconvert_exporter": "python",
   "pygments_lexer": "ipython3",
   "version": "3.8.10"
  }
 },
 "nbformat": 4,
 "nbformat_minor": 5
}
