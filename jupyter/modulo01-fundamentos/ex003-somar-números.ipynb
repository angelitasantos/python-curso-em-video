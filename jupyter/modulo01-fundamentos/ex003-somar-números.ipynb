{
 "cells": [
  {
   "cell_type": "markdown",
   "id": "88c59406",
   "metadata": {},
   "source": [
    "# Desafio 003\n",
    "\n",
    "Exercício Python 003: Crie um programa que leia dois números e mostre a soma entre eles."
   ]
  },
  {
   "cell_type": "code",
   "execution_count": 1,
   "id": "b3f07893",
   "metadata": {},
   "outputs": [
    {
     "name": "stdout",
     "output_type": "stream",
     "text": [
      "Digite um número: 5\n",
      "Digite outro número: 6\n",
      "A soma é 11\n"
     ]
    }
   ],
   "source": [
    "numero_01 = int(input('Digite um número: '))\n",
    "numero_02 = int(input('Digite outro número: '))\n",
    "soma = numero_01 + numero_02\n",
    "print('A soma é', soma)"
   ]
  },
  {
   "cell_type": "code",
   "execution_count": 2,
   "id": "3d3385ff",
   "metadata": {},
   "outputs": [
    {
     "name": "stdout",
     "output_type": "stream",
     "text": [
      "Digite um número: 6\n",
      "Digite outro número: 5\n",
      "A soma de 6 + 5 é 11\n"
     ]
    }
   ],
   "source": [
    "numero_01 = int(input('Digite um número: '))\n",
    "numero_02 = int(input('Digite outro número: '))\n",
    "soma = numero_01 + numero_02\n",
    "print(f'A soma de {numero_01} + {numero_02} é {soma}')"
   ]
  }
 ],
 "metadata": {
  "kernelspec": {
   "display_name": "Python 3 (ipykernel)",
   "language": "python",
   "name": "python3"
  },
  "language_info": {
   "codemirror_mode": {
    "name": "ipython",
    "version": 3
   },
   "file_extension": ".py",
   "mimetype": "text/x-python",
   "name": "python",
   "nbconvert_exporter": "python",
   "pygments_lexer": "ipython3",
   "version": "3.8.10"
  }
 },
 "nbformat": 4,
 "nbformat_minor": 5
}
