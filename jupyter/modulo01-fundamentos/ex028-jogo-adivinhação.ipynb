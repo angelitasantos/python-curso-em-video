{
 "cells": [
  {
   "cell_type": "markdown",
   "id": "485514e0",
   "metadata": {},
   "source": [
    "# Desafio 028\n",
    "\n",
    "Exercício Python 028: Escreva um programa que faça o computador \"pensar\" em um número inteiro entre 0 e 5 e peça para o usuário tentar descobrir qual foi o número escolhido pelo computador. O programa deverá escrever na tela se o usuário venceu ou perdeu."
   ]
  },
  {
   "cell_type": "code",
   "execution_count": 1,
   "id": "3ff43c95",
   "metadata": {},
   "outputs": [
    {
     "name": "stdout",
     "output_type": "stream",
     "text": [
      "-=--=--=--=--=--=--=--=--=--=--=--=--=--=--=--=--=--=--=--=--=--=--=--=--=--=--=--=--=--=-\n",
      "Vou pensar em um número entre 0 e 5. Tente adivinhar ...\n",
      "-=--=--=--=--=--=--=--=--=--=--=--=--=--=--=--=--=--=--=--=--=--=--=--=--=--=--=--=--=--=-\n",
      "Em que número eu pensei? 2\n",
      "PROCESSANDO ...\n",
      "VOCÊ PERDEU! Eu pensei no número 4 e não no número 2.\n"
     ]
    }
   ],
   "source": [
    "from random import randint\n",
    "from time import sleep\n",
    "\n",
    "print('-=-' * 30)\n",
    "print('Vou pensar em um número entre 0 e 5. Tente adivinhar ...')\n",
    "print('-=-' * 30)\n",
    "\n",
    "computador = randint(0,5)\n",
    "jogador = int(input('Em que número eu pensei? '))\n",
    "print('PROCESSANDO ...')\n",
    "sleep(3)\n",
    "\n",
    "if jogador == computador:\n",
    "    print('PARABÉNS! Você conseguiu me vencer.')\n",
    "else:\n",
    "    print(f'VOCÊ PERDEU! Eu pensei no número {computador} e não no número {jogador}.')\n"
   ]
  }
 ],
 "metadata": {
  "kernelspec": {
   "display_name": "Python 3 (ipykernel)",
   "language": "python",
   "name": "python3"
  },
  "language_info": {
   "codemirror_mode": {
    "name": "ipython",
    "version": 3
   },
   "file_extension": ".py",
   "mimetype": "text/x-python",
   "name": "python",
   "nbconvert_exporter": "python",
   "pygments_lexer": "ipython3",
   "version": "3.8.10"
  }
 },
 "nbformat": 4,
 "nbformat_minor": 5
}
