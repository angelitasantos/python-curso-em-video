{
 "cells": [
  {
   "cell_type": "markdown",
   "id": "550635fd",
   "metadata": {},
   "source": [
    "# Desafio 016\n",
    "\n",
    "Exercício Python 016: Crie um programa que leia um número Real qualquer pelo teclado e mostre na tela a sua porção Inteira."
   ]
  },
  {
   "cell_type": "code",
   "execution_count": 1,
   "id": "c35fde81",
   "metadata": {},
   "outputs": [
    {
     "name": "stdout",
     "output_type": "stream",
     "text": [
      "Digite um valor: 6.175\n",
      "O valor digitado foi 6.175 e a sua porção inteira é 6.\n"
     ]
    }
   ],
   "source": [
    "import math\n",
    "\n",
    "numero = float(input('Digite um valor: '))\n",
    "porcao_inteira = math.trunc(numero)\n",
    "print(f'O valor digitado foi {numero} e a sua porção inteira é {porcao_inteira}.')"
   ]
  },
  {
   "cell_type": "code",
   "execution_count": 2,
   "id": "ee15e4d1",
   "metadata": {},
   "outputs": [
    {
     "name": "stdout",
     "output_type": "stream",
     "text": [
      "Digite um valor: 4.75\n",
      "O valor digitado foi 4.75 e a sua porção inteira é 4.\n"
     ]
    }
   ],
   "source": [
    "from math import trunc\n",
    "\n",
    "numero = float(input('Digite um valor: '))\n",
    "porcao_inteira = trunc(numero)\n",
    "print(f'O valor digitado foi {numero} e a sua porção inteira é {porcao_inteira}.')"
   ]
  },
  {
   "cell_type": "code",
   "execution_count": 3,
   "id": "a553bde0",
   "metadata": {},
   "outputs": [
    {
     "name": "stdout",
     "output_type": "stream",
     "text": [
      "Digite um valor: 9.8246\n",
      "O valor digitado foi 9.8246 e a sua porção inteira é 9.\n"
     ]
    }
   ],
   "source": [
    "numero = float(input('Digite um valor: '))\n",
    "porcao_inteira = int(numero)\n",
    "print(f'O valor digitado foi {numero} e a sua porção inteira é {porcao_inteira}.')"
   ]
  }
 ],
 "metadata": {
  "kernelspec": {
   "display_name": "Python 3 (ipykernel)",
   "language": "python",
   "name": "python3"
  },
  "language_info": {
   "codemirror_mode": {
    "name": "ipython",
    "version": 3
   },
   "file_extension": ".py",
   "mimetype": "text/x-python",
   "name": "python",
   "nbconvert_exporter": "python",
   "pygments_lexer": "ipython3",
   "version": "3.8.10"
  }
 },
 "nbformat": 4,
 "nbformat_minor": 5
}
