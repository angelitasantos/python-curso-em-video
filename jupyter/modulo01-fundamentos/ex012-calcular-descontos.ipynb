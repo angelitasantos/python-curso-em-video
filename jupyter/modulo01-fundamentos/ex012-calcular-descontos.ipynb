{
 "cells": [
  {
   "cell_type": "markdown",
   "id": "c2413f99",
   "metadata": {},
   "source": [
    "# Desafio 012\n",
    "\n",
    "Exercício Python 012: Faça um algoritmo que leia o preço de um produto e mostre seu novo preço, com 5% de desconto."
   ]
  },
  {
   "cell_type": "code",
   "execution_count": 1,
   "id": "a1a381d0",
   "metadata": {},
   "outputs": [
    {
     "name": "stdout",
     "output_type": "stream",
     "text": [
      "Qual é o preço do produto? R$ 546\n",
      "O produto que custa R$ 546.00, com desconto de 5%, custará R$ 518.70.\n"
     ]
    }
   ],
   "source": [
    "preco = float(input('Qual é o preço do produto? R$ '))\n",
    "desconto = 5\n",
    "valor_desconto = preco * desconto / 100\n",
    "preco_final = preco - valor_desconto\n",
    "print(f'O produto que custa R$ {preco:.2f}, com desconto de {desconto}%, custará R$ {preco_final:.2f}.')"
   ]
  }
 ],
 "metadata": {
  "kernelspec": {
   "display_name": "Python 3 (ipykernel)",
   "language": "python",
   "name": "python3"
  },
  "language_info": {
   "codemirror_mode": {
    "name": "ipython",
    "version": 3
   },
   "file_extension": ".py",
   "mimetype": "text/x-python",
   "name": "python",
   "nbconvert_exporter": "python",
   "pygments_lexer": "ipython3",
   "version": "3.8.10"
  }
 },
 "nbformat": 4,
 "nbformat_minor": 5
}
