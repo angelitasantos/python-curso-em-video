{
 "cells": [
  {
   "cell_type": "markdown",
   "id": "c81ebeb7",
   "metadata": {},
   "source": [
    "# Desafio 034\n",
    "\n",
    "Exercício Python 034: Escreva um programa que pergunte o salário de um funcionário e calcule o valor do seu aumento. Para salários superiores a R$ 1250,00, calcule um aumento de 10%. \n",
    "Para os inferiores ou iguais, o aumento é de 15%."
   ]
  },
  {
   "cell_type": "code",
   "execution_count": 1,
   "id": "5766ae8b",
   "metadata": {},
   "outputs": [
    {
     "name": "stdout",
     "output_type": "stream",
     "text": [
      "Digite o salário do funcionário: R$ 5000\n",
      "Quem ganha R$ 5000.00 passará a ganhar R$ 5500.00.\n"
     ]
    }
   ],
   "source": [
    "salario = float(input('Digite o salário do funcionário: R$ '))\n",
    "\n",
    "salario_base = 1250\n",
    "aumento_superiores = 10\n",
    "aumento_inferiores = 15\n",
    "\n",
    "if salario <= salario_base:\n",
    "    novo_salario = salario + (salario * aumento_inferiores / 100)\n",
    "else:\n",
    "    novo_salario = salario + (salario * aumento_superiores / 100)\n",
    "\n",
    "print(f'Quem ganha R$ {salario:.2f} passará a ganhar R$ {novo_salario:.2f}.')"
   ]
  }
 ],
 "metadata": {
  "kernelspec": {
   "display_name": "Python 3 (ipykernel)",
   "language": "python",
   "name": "python3"
  },
  "language_info": {
   "codemirror_mode": {
    "name": "ipython",
    "version": 3
   },
   "file_extension": ".py",
   "mimetype": "text/x-python",
   "name": "python",
   "nbconvert_exporter": "python",
   "pygments_lexer": "ipython3",
   "version": "3.8.10"
  }
 },
 "nbformat": 4,
 "nbformat_minor": 5
}
