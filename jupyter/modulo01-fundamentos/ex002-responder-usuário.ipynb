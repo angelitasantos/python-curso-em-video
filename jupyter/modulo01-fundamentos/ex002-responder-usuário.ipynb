{
 "cells": [
  {
   "cell_type": "markdown",
   "id": "a2982647",
   "metadata": {},
   "source": [
    "# Desafio 002\n",
    "\n",
    "Exercício Python 002: Faça um programa que leia o nome de uma pessoa e mostre uma mensagem de boas-vindas."
   ]
  },
  {
   "cell_type": "code",
   "execution_count": 1,
   "id": "487eeb92",
   "metadata": {},
   "outputs": [
    {
     "name": "stdout",
     "output_type": "stream",
     "text": [
      "Digite o seu nome: Angelita\n",
      "Digite o seu sobrenome: Santos\n",
      "Angelita Santos\n"
     ]
    }
   ],
   "source": [
    "nome = input('Digite o seu nome: ')\n",
    "sobrenome = input('Digite o seu sobrenome: ')\n",
    "nome_completo = nome + ' ' + sobrenome\n",
    "print(nome_completo)"
   ]
  },
  {
   "cell_type": "code",
   "execution_count": 2,
   "id": "a2e727fb",
   "metadata": {},
   "outputs": [
    {
     "name": "stdout",
     "output_type": "stream",
     "text": [
      "Digite o seu nome: Angelita\n",
      "É um prazer te conhecer, Angelita\n"
     ]
    }
   ],
   "source": [
    "nome = input('Digite o seu nome: ')\n",
    "print('É um prazer te conhecer,', nome)"
   ]
  },
  {
   "cell_type": "code",
   "execution_count": 3,
   "id": "74ebb24e",
   "metadata": {},
   "outputs": [
    {
     "name": "stdout",
     "output_type": "stream",
     "text": [
      "Digite o seu nome: Angelita\n",
      "Digite o seu sobrenome: Santos\n",
      "Bom dia, Angelita Santos\n"
     ]
    }
   ],
   "source": [
    "nome = input('Digite o seu nome: ')\n",
    "sobrenome = input('Digite o seu sobrenome: ')\n",
    "nome_completo = nome + ' ' + sobrenome\n",
    "print(f'Bom dia, {nome_completo}')"
   ]
  }
 ],
 "metadata": {
  "kernelspec": {
   "display_name": "Python 3 (ipykernel)",
   "language": "python",
   "name": "python3"
  },
  "language_info": {
   "codemirror_mode": {
    "name": "ipython",
    "version": 3
   },
   "file_extension": ".py",
   "mimetype": "text/x-python",
   "name": "python",
   "nbconvert_exporter": "python",
   "pygments_lexer": "ipython3",
   "version": "3.8.10"
  }
 },
 "nbformat": 4,
 "nbformat_minor": 5
}
