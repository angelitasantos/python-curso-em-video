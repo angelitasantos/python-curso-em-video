{
 "cells": [
  {
   "cell_type": "markdown",
   "id": "c9f07273",
   "metadata": {},
   "source": [
    "# Desafio 019\n",
    "\n",
    "Exercício Python 019: Um professor quer sortear um dos seus quatro alunos para apagar o quadro. Faça um programa que ajude ele, lendo o nome dos alunos e escrevendo na tela o nome do escolhido."
   ]
  },
  {
   "cell_type": "code",
   "execution_count": 1,
   "id": "309f3b4a",
   "metadata": {},
   "outputs": [
    {
     "name": "stdout",
     "output_type": "stream",
     "text": [
      "DIgite o primeiro aluno: Paulo\n",
      "DIgite o segundo aluno: Joana\n",
      "DIgite o terceiro aluno: Cecilia\n",
      "DIgite o quarto aluno: Sofia\n",
      "O aluno escolhido foi: Paulo\n"
     ]
    }
   ],
   "source": [
    "import random\n",
    "\n",
    "aluno_01 = str(input('DIgite o primeiro aluno: '))\n",
    "aluno_02 = str(input('DIgite o segundo aluno: '))\n",
    "aluno_03 = str(input('DIgite o terceiro aluno: '))\n",
    "aluno_04 = str(input('DIgite o quarto aluno: '))\n",
    "lista = [aluno_01, aluno_02, aluno_03, aluno_04]\n",
    "escolhido = random.choice(lista)\n",
    "\n",
    "print(f'O aluno escolhido foi: {escolhido}')"
   ]
  },
  {
   "cell_type": "code",
   "execution_count": 2,
   "id": "f1fb6023",
   "metadata": {},
   "outputs": [
    {
     "name": "stdout",
     "output_type": "stream",
     "text": [
      "DIgite o primeiro aluno: Pedro\n",
      "DIgite o segundo aluno: Renata\n",
      "DIgite o terceiro aluno: Fernanda\n",
      "DIgite o quarto aluno: Angelo\n",
      "O aluno escolhido foi: Pedro\n"
     ]
    }
   ],
   "source": [
    "from random import choice\n",
    "\n",
    "aluno_01 = str(input('DIgite o primeiro aluno: '))\n",
    "aluno_02 = str(input('DIgite o segundo aluno: '))\n",
    "aluno_03 = str(input('DIgite o terceiro aluno: '))\n",
    "aluno_04 = str(input('DIgite o quarto aluno: '))\n",
    "lista = [aluno_01, aluno_02, aluno_03, aluno_04]\n",
    "escolhido = choice(lista)\n",
    "\n",
    "print(f'O aluno escolhido foi: {escolhido}')"
   ]
  }
 ],
 "metadata": {
  "kernelspec": {
   "display_name": "Python 3 (ipykernel)",
   "language": "python",
   "name": "python3"
  },
  "language_info": {
   "codemirror_mode": {
    "name": "ipython",
    "version": 3
   },
   "file_extension": ".py",
   "mimetype": "text/x-python",
   "name": "python",
   "nbconvert_exporter": "python",
   "pygments_lexer": "ipython3",
   "version": "3.8.10"
  }
 },
 "nbformat": 4,
 "nbformat_minor": 5
}
