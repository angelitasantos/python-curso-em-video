{
 "cells": [
  {
   "cell_type": "markdown",
   "id": "6aa4bf35",
   "metadata": {},
   "source": [
    "# Desafio 011\n",
    "\n",
    "Exercício Python 011: Faça um programa que leia a largura e a altura de uma parede em metros, calcule a sua área e a quantidade de tinta necessária para pintá-la, sabendo que cada litro de tinta pinta uma área de 2 metros quadrados."
   ]
  },
  {
   "cell_type": "code",
   "execution_count": 1,
   "id": "ab1640b2",
   "metadata": {},
   "outputs": [
    {
     "name": "stdout",
     "output_type": "stream",
     "text": [
      "Digite a largura da parede: 2.5\n",
      "Digite a altura da parede: 1.75\n",
      "Sua parede tem dimensão de 2.5m x 1.75m e sua área é de 4.375m².\n",
      "Para pintar esta parede, você precisará de 2.19L de tinta.\n"
     ]
    }
   ],
   "source": [
    "largura = float(input('Digite a largura da parede: ')) \n",
    "altura = float(input('Digite a altura da parede: '))\n",
    "area = largura * altura\n",
    "tinta = area / 2\n",
    "\n",
    "print(f'Sua parede tem dimensão de {largura}m x {altura}m e sua área é de {area}m².')\n",
    "print(f'Para pintar esta parede, você precisará de {tinta:.2f}L de tinta.')"
   ]
  }
 ],
 "metadata": {
  "kernelspec": {
   "display_name": "Python 3 (ipykernel)",
   "language": "python",
   "name": "python3"
  },
  "language_info": {
   "codemirror_mode": {
    "name": "ipython",
    "version": 3
   },
   "file_extension": ".py",
   "mimetype": "text/x-python",
   "name": "python",
   "nbconvert_exporter": "python",
   "pygments_lexer": "ipython3",
   "version": "3.8.10"
  }
 },
 "nbformat": 4,
 "nbformat_minor": 5
}
