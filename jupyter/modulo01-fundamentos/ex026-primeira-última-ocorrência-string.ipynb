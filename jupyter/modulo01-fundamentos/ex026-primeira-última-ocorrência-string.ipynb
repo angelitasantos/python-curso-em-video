{
 "cells": [
  {
   "cell_type": "markdown",
   "id": "ca2cc579",
   "metadata": {},
   "source": [
    "# Desafio 026\n",
    "\n",
    "Exercício Python 026: Faça um programa que leia uma frase pelo teclado e mostre quantas vezes aparece a letra \"A\", em que posição ela aparece a primeira vez e em que posição ela aparece a última vez."
   ]
  },
  {
   "cell_type": "code",
   "execution_count": 1,
   "id": "590800d5",
   "metadata": {},
   "outputs": [
    {
     "name": "stdout",
     "output_type": "stream",
     "text": [
      "Digite uma frase: Arara Azul e Amarela\n",
      "A letra A aparece 7 vezes na frase.\n",
      "A primeira letra A aparece na posição 1.\n",
      "A última letra A aparece na posição 20.\n"
     ]
    }
   ],
   "source": [
    "frase = str(input('Digite uma frase: ')).strip().upper()\n",
    "letra = 'A'\n",
    "qtde_aparece = frase.count(letra)\n",
    "\n",
    "primeira_letra = frase.find(letra) + 1\n",
    "ultima_letra = frase.rfind(letra) + 1\n",
    "\n",
    "print(f'A letra {letra} aparece {qtde_aparece} vezes na frase.')\n",
    "print(f'A primeira letra {letra} aparece na posição {primeira_letra}.')\n",
    "print(f'A última letra {letra} aparece na posição {ultima_letra}.')"
   ]
  }
 ],
 "metadata": {
  "kernelspec": {
   "display_name": "Python 3 (ipykernel)",
   "language": "python",
   "name": "python3"
  },
  "language_info": {
   "codemirror_mode": {
    "name": "ipython",
    "version": 3
   },
   "file_extension": ".py",
   "mimetype": "text/x-python",
   "name": "python",
   "nbconvert_exporter": "python",
   "pygments_lexer": "ipython3",
   "version": "3.8.10"
  }
 },
 "nbformat": 4,
 "nbformat_minor": 5
}
