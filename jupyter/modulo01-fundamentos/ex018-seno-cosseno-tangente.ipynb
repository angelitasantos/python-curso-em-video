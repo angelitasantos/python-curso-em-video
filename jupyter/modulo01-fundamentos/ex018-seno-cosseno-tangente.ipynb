{
 "cells": [
  {
   "cell_type": "markdown",
   "id": "9b3634bb",
   "metadata": {},
   "source": [
    "# Desafio 018\n",
    "\n",
    "Exercício Python 018: Faça um programa que leia um ângulo qualquer e mostre na tela o valor do seno, cosseno e tangente desse ângulo."
   ]
  },
  {
   "cell_type": "code",
   "execution_count": 1,
   "id": "0eddab32",
   "metadata": {},
   "outputs": [
    {
     "name": "stdout",
     "output_type": "stream",
     "text": [
      "Digite o ângulo que você deseja: 30\n",
      "O ângulo de 30.0° tem o SENO de 0.50.\n",
      "O ângulo de 30.0° tem o COSSENO de 0.87.\n",
      "O ângulo de 30.0° tem o TANGENTE de 0.58.\n"
     ]
    }
   ],
   "source": [
    "import math\n",
    "# seno, cosseno e tangente estão em radianos\n",
    "\n",
    "angulo = float(input('Digite o ângulo que você deseja: '))\n",
    "# converter o angulo em graus para radianos\n",
    "angulo_radiano = math.radians(angulo)\n",
    "seno = math.sin(angulo_radiano)\n",
    "cosseno = math.cos(angulo_radiano)\n",
    "tangente = math.tan(angulo_radiano)\n",
    "\n",
    "print(f'O ângulo de {angulo}° tem o SENO de {seno:.2f}.')\n",
    "print(f'O ângulo de {angulo}° tem o COSSENO de {cosseno:.2f}.')\n",
    "print(f'O ângulo de {angulo}° tem o TANGENTE de {tangente:.2f}.')"
   ]
  },
  {
   "cell_type": "code",
   "execution_count": 2,
   "id": "a1c0b448",
   "metadata": {},
   "outputs": [
    {
     "name": "stdout",
     "output_type": "stream",
     "text": [
      "Digite o ângulo que você deseja: 45\n",
      "O ângulo de 45.0° tem o SENO de 0.71.\n",
      "O ângulo de 45.0° tem o COSSENO de 0.71.\n",
      "O ângulo de 45.0° tem o TANGENTE de 1.00.\n"
     ]
    }
   ],
   "source": [
    "from math import radians, sin, cos, tan\n",
    "\n",
    "angulo = float(input('Digite o ângulo que você deseja: '))\n",
    "angulo_radiano = radians(angulo)\n",
    "seno = sin(angulo_radiano)\n",
    "cosseno = cos(angulo_radiano)\n",
    "tangente = tan(angulo_radiano)\n",
    "\n",
    "print(f'O ângulo de {angulo}° tem o SENO de {seno:.2f}.')\n",
    "print(f'O ângulo de {angulo}° tem o COSSENO de {cosseno:.2f}.')\n",
    "print(f'O ângulo de {angulo}° tem o TANGENTE de {tangente:.2f}.')"
   ]
  }
 ],
 "metadata": {
  "kernelspec": {
   "display_name": "Python 3 (ipykernel)",
   "language": "python",
   "name": "python3"
  },
  "language_info": {
   "codemirror_mode": {
    "name": "ipython",
    "version": 3
   },
   "file_extension": ".py",
   "mimetype": "text/x-python",
   "name": "python",
   "nbconvert_exporter": "python",
   "pygments_lexer": "ipython3",
   "version": "3.8.10"
  }
 },
 "nbformat": 4,
 "nbformat_minor": 5
}
