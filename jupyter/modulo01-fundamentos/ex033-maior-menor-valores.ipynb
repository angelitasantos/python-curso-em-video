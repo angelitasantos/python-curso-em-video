{
 "cells": [
  {
   "cell_type": "markdown",
   "id": "09d4039a",
   "metadata": {},
   "source": [
    "# Desafio 033\n",
    "\n",
    "Exercício Python 033: Faça um programa que leia três números e mostre qual é o maior e qual é o menor."
   ]
  },
  {
   "cell_type": "code",
   "execution_count": 1,
   "id": "fac21132",
   "metadata": {},
   "outputs": [
    {
     "name": "stdout",
     "output_type": "stream",
     "text": [
      "Digite três valores diferentes.\n",
      "Digite o primeiro valor: 9\n",
      "Digite o segundo valor: 5\n",
      "Digite o terceiro valor: 7\n",
      "----------------------------------------------------------------------------------------------------\n",
      "O MENOR valor digitado foi 5\n",
      "O MAIOR valor digitado foi 9\n"
     ]
    }
   ],
   "source": [
    "print('Digite três valores diferentes.')\n",
    "valor_01 = int(input('Digite o primeiro valor: '))\n",
    "valor_02 = int(input('Digite o segundo valor: '))\n",
    "valor_03 = int(input('Digite o terceiro valor: '))\n",
    "\n",
    "print('-' * 100)\n",
    "# verificar qual o menor número\n",
    "if valor_01 < valor_02 and valor_01 < valor_02:\n",
    "    print(f'O MENOR valor digitado foi {valor_01}')\n",
    "if valor_02 < valor_01 and valor_02 < valor_03:\n",
    "    print(f'O MENOR valor digitado foi {valor_02}')\n",
    "if valor_03 < valor_01 and valor_03 < valor_02:\n",
    "    print(f'O MENOR valor digitado foi {valor_03}')\n",
    "\n",
    "# verificar qual o maior número\n",
    "if valor_01 > valor_02 and valor_01 > valor_02:\n",
    "    print(f'O MAIOR valor digitado foi {valor_01}')\n",
    "if valor_02 > valor_01 and valor_02 > valor_03:\n",
    "    print(f'O MAIOR valor digitado foi {valor_02}')\n",
    "if valor_03 > valor_01 and valor_03 > valor_02:\n",
    "    print(f'O MAIOR valor digitado foi {valor_03}')\n",
    "\n",
    "# verificar se os três números são iguais\n",
    "if valor_01 == valor_02 == valor_03:\n",
    "    print('Todos os números são iguais,')"
   ]
  },
  {
   "cell_type": "code",
   "execution_count": null,
   "id": "9bc11bec",
   "metadata": {},
   "outputs": [],
   "source": [
    "# solução com listas\n",
    "\n",
    "primeiro = int(input('Digite o primeiro número: '))\n",
    "segundo = int(input('Digite o segundo número: '))\n",
    "terceiro = int(input('Digite o terceiro número: '))\n",
    "numeros = [primeiro, segundo, terceiro]\n",
    "\n",
    "menor = min(numeros)\n",
    "maior = max(numeros)\n",
    "\n",
    "print(f'O MAIOR número digitado foi {maior}.')\n",
    "print(f'O MENOR número digitado foi {menor}.')"
   ]
  },
  {
   "cell_type": "code",
   "execution_count": null,
   "id": "9cc4439b",
   "metadata": {},
   "outputs": [],
   "source": [
    "# solução com listas\n",
    "\n",
    "n1 = int(input('Digite o primeiro número: '))\n",
    "n2 = int(input('Digite o segundo número: '))\n",
    "n3 = int(input ('Digite o terceiro número: '))\n",
    "\n",
    "lista = [n1, n2, n3]\n",
    "lista_ordenada = sorted(lista)\n",
    "\n",
    "print(f'O MENOR número é {lista_ordenada[0]}.')\n",
    "print (f'O MAIOR número é {lista_ordenada[2]}.')"
   ]
  }
 ],
 "metadata": {
  "kernelspec": {
   "display_name": "Python 3 (ipykernel)",
   "language": "python",
   "name": "python3"
  },
  "language_info": {
   "codemirror_mode": {
    "name": "ipython",
    "version": 3
   },
   "file_extension": ".py",
   "mimetype": "text/x-python",
   "name": "python",
   "nbconvert_exporter": "python",
   "pygments_lexer": "ipython3",
   "version": "3.8.10"
  }
 },
 "nbformat": 4,
 "nbformat_minor": 5
}
