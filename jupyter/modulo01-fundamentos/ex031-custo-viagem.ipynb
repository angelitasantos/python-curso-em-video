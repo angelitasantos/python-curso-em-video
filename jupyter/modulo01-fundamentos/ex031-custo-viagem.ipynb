{
 "cells": [
  {
   "cell_type": "markdown",
   "id": "ef1ed6bc",
   "metadata": {},
   "source": [
    "# Desafio 031\n",
    "\n",
    "Exercício Python 031: Desenvolva um programa que pergunte a distância de uma viagem em Km. Calcule o preço da passagem, cobrando R$0,50 por Km para viagens de até 200Km e R$0,45 parta viagens mais longas."
   ]
  },
  {
   "cell_type": "code",
   "execution_count": 1,
   "id": "58d6b5f0",
   "metadata": {},
   "outputs": [
    {
     "name": "stdout",
     "output_type": "stream",
     "text": [
      "Qual é a distância da sua viagem? 100\n",
      "Você está prestes a começar uma viagem de 100.0km,\n",
      "e o preço da sua passagem será de R$ 50.00.\n"
     ]
    }
   ],
   "source": [
    "distancia = float(input('Qual é a distância da sua viagem? '))\n",
    "\n",
    "viagem_curta = 0.50\n",
    "viagem_longa = 0.45\n",
    "\n",
    "km_viagem_curta = 200\n",
    "\n",
    "if distancia <= km_viagem_curta:\n",
    "    preco = distancia * viagem_curta\n",
    "else:\n",
    "    preco = distancia * viagem_longa\n",
    "\n",
    "print(f'Você está prestes a começar uma viagem de {distancia}km,')\n",
    "print(f'e o preço da sua passagem será de R$ {preco:.2f}.')"
   ]
  },
  {
   "cell_type": "code",
   "execution_count": 2,
   "id": "701ec0d0",
   "metadata": {},
   "outputs": [
    {
     "name": "stdout",
     "output_type": "stream",
     "text": [
      "Qual é a distância da sua viagem? 1000\n",
      "Você está prestes a começar uma viagem de 1000.0km,\n",
      "e o preço da sua passagem será de R$ 450.00.\n"
     ]
    }
   ],
   "source": [
    "distancia = float(input('Qual é a distância da sua viagem? '))\n",
    "\n",
    "viagem_curta = 0.50\n",
    "viagem_longa = 0.45\n",
    "\n",
    "km_viagem_curta = 200\n",
    "\n",
    "preco = distancia * viagem_curta if distancia <= km_viagem_curta else distancia * viagem_longa\n",
    "\n",
    "print(f'Você está prestes a começar uma viagem de {distancia}km,')\n",
    "print(f'e o preço da sua passagem será de R$ {preco:.2f}.')"
   ]
  }
 ],
 "metadata": {
  "kernelspec": {
   "display_name": "Python 3 (ipykernel)",
   "language": "python",
   "name": "python3"
  },
  "language_info": {
   "codemirror_mode": {
    "name": "ipython",
    "version": 3
   },
   "file_extension": ".py",
   "mimetype": "text/x-python",
   "name": "python",
   "nbconvert_exporter": "python",
   "pygments_lexer": "ipython3",
   "version": "3.8.10"
  }
 },
 "nbformat": 4,
 "nbformat_minor": 5
}
