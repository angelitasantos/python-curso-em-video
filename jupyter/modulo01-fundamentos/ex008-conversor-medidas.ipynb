{
 "cells": [
  {
   "cell_type": "markdown",
   "id": "91455695",
   "metadata": {},
   "source": [
    "# Desafio 008\n",
    "\n",
    "Exercício Python 008: Escreva um programa que leia um valor em metros e o exiba convertido em centímetros e milímetros."
   ]
  },
  {
   "cell_type": "code",
   "execution_count": 1,
   "id": "b1f1d5a4",
   "metadata": {},
   "outputs": [
    {
     "name": "stdout",
     "output_type": "stream",
     "text": [
      "Digite uma distância em metros: 3\n",
      "A medida de 3.0m corresponde a 0.003km.\n",
      "A medida de 3.0m corresponde a 0.03hm.\n",
      "A medida de 3.0m corresponde a 0.3dam.\n",
      "A medida de 3.0m corresponde a 30dm.\n",
      "A medida de 3.0m corresponde a 300cm.\n",
      "A medida de 3.0m corresponde a 3000mm.\n"
     ]
    }
   ],
   "source": [
    "medida = float(input('Digite uma distância em metros: '))\n",
    "km = medida * 0.001\n",
    "hm = medida * 0.01\n",
    "dam = medida * 0.1\n",
    "dm = medida * 10\n",
    "cm = medida * 100\n",
    "mm = medida * 1000\n",
    "print(f'A medida de {medida}m corresponde a {km:.3f}km.')\n",
    "print(f'A medida de {medida}m corresponde a {hm:.2f}hm.')\n",
    "print(f'A medida de {medida}m corresponde a {dam:.1f}dam.')\n",
    "print(f'A medida de {medida}m corresponde a {dm:.0f}dm.')\n",
    "print(f'A medida de {medida}m corresponde a {cm:.0f}cm.')\n",
    "print(f'A medida de {medida}m corresponde a {mm:.0f}mm.')"
   ]
  },
  {
   "cell_type": "code",
   "execution_count": 2,
   "id": "275a9aae",
   "metadata": {},
   "outputs": [
    {
     "name": "stdout",
     "output_type": "stream",
     "text": [
      "Digite uma distância em metros: 3\n",
      "A medida de 3.0m corresponde a: \n",
      "0.003km\n",
      "0.03hm\n",
      "0.3dam\n",
      "30dm\n",
      "300cm\n",
      "3000mm.\n"
     ]
    }
   ],
   "source": [
    "medida = float(input('Digite uma distância em metros: '))\n",
    "km = medida * 0.001\n",
    "hm = medida * 0.01\n",
    "dam = medida * 0.1\n",
    "dm = medida * 10\n",
    "cm = medida * 100\n",
    "mm = medida * 1000\n",
    "print(f'A medida de {medida}m corresponde a: \\n{km:.3f}km\\n{hm:.2f}hm\\n{dam:.1f}dam\\n{dm:.0f}dm\\n{cm:.0f}cm\\n{mm:.0f}mm.')"
   ]
  }
 ],
 "metadata": {
  "kernelspec": {
   "display_name": "Python 3 (ipykernel)",
   "language": "python",
   "name": "python3"
  },
  "language_info": {
   "codemirror_mode": {
    "name": "ipython",
    "version": 3
   },
   "file_extension": ".py",
   "mimetype": "text/x-python",
   "name": "python",
   "nbconvert_exporter": "python",
   "pygments_lexer": "ipython3",
   "version": "3.8.10"
  }
 },
 "nbformat": 4,
 "nbformat_minor": 5
}
